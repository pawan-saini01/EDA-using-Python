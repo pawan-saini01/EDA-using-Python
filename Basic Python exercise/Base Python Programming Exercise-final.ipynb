{
 "cells": [
  {
   "cell_type": "markdown",
   "metadata": {},
   "source": [
    "## Python Basic Programming Exercises\n",
    "#### Name - Pawan Saini"
   ]
  },
  {
   "cell_type": "raw",
   "metadata": {},
   "source": [
    "Q1: What is the output of following expression\n",
    "    5 + 4 * 9 % (3 + 1) / 6 - 1"
   ]
  },
  {
   "cell_type": "code",
   "execution_count": 1,
   "metadata": {},
   "outputs": [
    {
     "data": {
      "text/plain": [
       "4.0"
      ]
     },
     "execution_count": 1,
     "metadata": {},
     "output_type": "execute_result"
    }
   ],
   "source": [
    "5+4*9%(3+1)/6-1"
   ]
  },
  {
   "cell_type": "raw",
   "metadata": {},
   "source": [
    "Q2: Write a program to check if a Number is Odd or Even. Take number as a input from user at runtime."
   ]
  },
  {
   "cell_type": "code",
   "execution_count": 14,
   "metadata": {},
   "outputs": [
    {
     "name": "stdout",
     "output_type": "stream",
     "text": [
      "Please enter a number - 6\n",
      "The number is even\n"
     ]
    }
   ],
   "source": [
    "num = int(input(\"Please enter a number - \"))\n",
    "if num % 2 == 0:\n",
    "    print(\"The number is even\")\n",
    "else:\n",
    "    print(\"The number is odd\")"
   ]
  },
  {
   "cell_type": "raw",
   "metadata": {},
   "source": [
    "Q3: Write a program to display the multiplication table by taking a number as input. \n",
    "    [Hint : Use print statement inside of a loop]"
   ]
  },
  {
   "cell_type": "code",
   "execution_count": 20,
   "metadata": {},
   "outputs": [
    {
     "name": "stdout",
     "output_type": "stream",
     "text": [
      "Please enter a number - 257\n",
      "257 x 1 = 257\n",
      "257 x 2 = 514\n",
      "257 x 3 = 771\n",
      "257 x 4 = 1028\n",
      "257 x 5 = 1285\n",
      "257 x 6 = 1542\n",
      "257 x 7 = 1799\n",
      "257 x 8 = 2056\n",
      "257 x 9 = 2313\n",
      "257 x 10 = 2570\n"
     ]
    }
   ],
   "source": [
    "num = int(input(\"Please enter a number - \"))\n",
    "for i in range(1,11):\n",
    "    print(f'{num} x {i} = {num*i}')"
   ]
  },
  {
   "cell_type": "raw",
   "metadata": {},
   "source": [
    "Q4: Write a program which will find all numbers between 2000 and 3200 which are divisible by 7 \n",
    "    but are not a multiple of 5.\n",
    " \n",
    "Note: The numbers obtained should be printed in a comma-separated sequence on a single line."
   ]
  },
  {
   "cell_type": "code",
   "execution_count": 5,
   "metadata": {},
   "outputs": [
    {
     "name": "stdout",
     "output_type": "stream",
     "text": [
      "2002,2009,2016,2023,2037,2044,2051,2058,2072,2079,2086,2093,2107,2114,2121,2128,2142,2149,2156,2163,2177,2184,2191,2198,2212,2219,2226,2233,2247,2254,2261,2268,2282,2289,2296,2303,2317,2324,2331,2338,2352,2359,2366,2373,2387,2394,2401,2408,2422,2429,2436,2443,2457,2464,2471,2478,2492,2499,2506,2513,2527,2534,2541,2548,2562,2569,2576,2583,2597,2604,2611,2618,2632,2639,2646,2653,2667,2674,2681,2688,2702,2709,2716,2723,2737,2744,2751,2758,2772,2779,2786,2793,2807,2814,2821,2828,2842,2849,2856,2863,2877,2884,2891,2898,2912,2919,2926,2933,2947,2954,2961,2968,2982,2989,2996,3003,3017,3024,3031,3038,3052,3059,3066,3073,3087,3094,3101,3108,3122,3129,3136,3143,3157,3164,3171,3178,3192,3199,\b\n"
     ]
    }
   ],
   "source": [
    "for i in range(2000,3201):\n",
    "    if i % 7 == 0 and i % 5 != 0:\n",
    "        print(i,end=',')\n",
    "print(\"\\b\")"
   ]
  },
  {
   "cell_type": "code",
   "execution_count": 21,
   "metadata": {},
   "outputs": [
    {
     "name": "stdout",
     "output_type": "stream",
     "text": [
      "[2002, 2009, 2016, 2023, 2037, 2044, 2051, 2058, 2072, 2079, 2086, 2093, 2107, 2114, 2121, 2128, 2142, 2149, 2156, 2163, 2177, 2184, 2191, 2198, 2212, 2219, 2226, 2233, 2247, 2254, 2261, 2268, 2282, 2289, 2296, 2303, 2317, 2324, 2331, 2338, 2352, 2359, 2366, 2373, 2387, 2394, 2401, 2408, 2422, 2429, 2436, 2443, 2457, 2464, 2471, 2478, 2492, 2499, 2506, 2513, 2527, 2534, 2541, 2548, 2562, 2569, 2576, 2583, 2597, 2604, 2611, 2618, 2632, 2639, 2646, 2653, 2667, 2674, 2681, 2688, 2702, 2709, 2716, 2723, 2737, 2744, 2751, 2758, 2772, 2779, 2786, 2793, 2807, 2814, 2821, 2828, 2842, 2849, 2856, 2863, 2877, 2884, 2891, 2898, 2912, 2919, 2926, 2933, 2947, 2954, 2961, 2968, 2982, 2989, 2996, 3003, 3017, 3024, 3031, 3038, 3052, 3059, 3066, 3073, 3087, 3094, 3101, 3108, 3122, 3129, 3136, 3143, 3157, 3164, 3171, 3178, 3192, 3199]\n"
     ]
    }
   ],
   "source": [
    "Output = []\n",
    "\n",
    "for num in range(2000,3201,1):\n",
    "    if num % 7 == 0 and num % 5 != 0:\n",
    "        Output.append(num)\n",
    "print(Output)\n",
    "    "
   ]
  },
  {
   "cell_type": "raw",
   "metadata": {},
   "source": [
    "Q5: Count the elements of each datatype inside the list and display in output\n",
    "    [2, 3, 'Py', '10', 1, 'SQL', 5.5, True, 3, 'John', None, 7]    "
   ]
  },
  {
   "cell_type": "code",
   "execution_count": 6,
   "metadata": {},
   "outputs": [
    {
     "name": "stdout",
     "output_type": "stream",
     "text": [
      "Total int type -  5\n",
      "Total string type -  4\n",
      "Total float type -  1\n",
      "Total bool type -  2\n"
     ]
    }
   ],
   "source": [
    "l1 =   [2, 3, 'Py', '10', 1, 'SQL', 5.5, True, 3, 'John', None, 7]\n",
    "list_int = []\n",
    "list_str = []\n",
    "list_float = []\n",
    "list_bool = []\n",
    "\n",
    "for i in range(len(l1)):\n",
    "    if type(l1[i]) == int:\n",
    "        list_int.append(i)\n",
    "    elif type(l1[i]) == str:\n",
    "        list_str.append(i)\n",
    "    elif type(l1[i]) == float:\n",
    "        list_float.append(i)\n",
    "    else:\n",
    "        list_bool.append(i)\n",
    "        \n",
    "print('Total int type - ', len(list_int))\n",
    "print('Total string type - ', len(list_str))\n",
    "print('Total float type - ', len(list_float))\n",
    "print('Total bool type - ', len(list_bool))"
   ]
  },
  {
   "cell_type": "raw",
   "metadata": {},
   "source": [
    "Q6: Add all values from the list with numeric datatypes \n",
    "    [2, 3, 'Py', '10', 1, 'SQL', 5.5, True, 3, 'John', None, 7] "
   ]
  },
  {
   "cell_type": "code",
   "execution_count": 13,
   "metadata": {},
   "outputs": [
    {
     "name": "stdout",
     "output_type": "stream",
     "text": [
      "21.5\n"
     ]
    }
   ],
   "source": [
    "li =  [2, 3, 'Py', '10', 1, 'SQL', 5.5, True, 3, 'John', None, 7]\n",
    "l2 = []\n",
    "for i in range(len(li)):\n",
    "    if type(li[i]) == int or type(li[i]) == float:\n",
    "        l2.append(li[i])\n",
    "print(sum(l2))"
   ]
  },
  {
   "cell_type": "raw",
   "metadata": {},
   "source": [
    "Q7: Concat all str datatypes with hyphen as a delimiter\n",
    "    [2, 3, 'Py', '10', 1, 'SQL', 5.5, True, 3, 'John', None, 7] "
   ]
  },
  {
   "cell_type": "code",
   "execution_count": 44,
   "metadata": {},
   "outputs": [
    {
     "name": "stdout",
     "output_type": "stream",
     "text": [
      "Py-10-SQL-John\n"
     ]
    }
   ],
   "source": [
    "l1 = [2, 3, 'Py', '10', 1, 'SQL', 5.5, True, 3, 'John', None, 7]\n",
    "l2 = []\n",
    "for item in l1:\n",
    "    if type(item) == str:\n",
    "        l2.append(item)\n",
    "l3 = '-'.join(l2)\n",
    "print(l3)"
   ]
  },
  {
   "cell_type": "raw",
   "metadata": {},
   "source": [
    "Q8: Write a UDF that takes list as input and returns sum of all numbers \n",
    "    (exclude bool) and count of all str \n",
    "    [2, 3, 'Py', '10', 1, 'SQL', 5.5, True, 3, 'John', None, 7] \n",
    "    \n",
    "Hint:\n",
    "-----\n",
    "def my_func:\n",
    "    # your code\n",
    "        \n",
    "my_func(l1)\n",
    "# output --> {'Sum': xxx, 'Count_of_Strs': xxx}"
   ]
  },
  {
   "cell_type": "code",
   "execution_count": 18,
   "metadata": {},
   "outputs": [
    {
     "data": {
      "text/plain": [
       "{'sum of all numbers': 21.5, 'count of all str': 4}"
      ]
     },
     "execution_count": 18,
     "metadata": {},
     "output_type": "execute_result"
    }
   ],
   "source": [
    "list1 = [2, 3, 'Py', '10', 1, 'SQL', 5.5, True, 3, 'John', None, 7]\n",
    "\n",
    "list2 = []\n",
    "for i in list1:\n",
    "    if type(i) == int or type(i) == float:\n",
    "        list2.append(i)\n",
    "\n",
    "list3 = []\n",
    "for i in list1:\n",
    "    if type(i) == str:\n",
    "        list3.append(i)\n",
    "        \n",
    "def my_func(l):\n",
    "    dict1 = {}\n",
    "    dict1['sum of all numbers'] = sum(list2)\n",
    "    dict1['count of all str'] = len(list3)\n",
    "    return dict1\n",
    "\n",
    "my_func(list1)"
   ]
  },
  {
   "cell_type": "code",
   "execution_count": 6,
   "metadata": {},
   "outputs": [
    {
     "data": {
      "text/plain": [
       "{'sum of all numbers (exclude bool)': 21.5, 'count of all str': 4}"
      ]
     },
     "execution_count": 6,
     "metadata": {},
     "output_type": "execute_result"
    }
   ],
   "source": [
    "list1 = [2, 3, 'Py', '10', 1, 'SQL', 5.5, True, 3, 'John', None, 7]\n",
    "\n",
    "def my_func(l):\n",
    "    dict1 = {}\n",
    "    dict1['sum of all numbers (exclude bool)'] = sum([float(i) for i in l if type(i) == int or type(i) == float])\n",
    "    dict1['count of all str'] = len([str(i) for i in l if type(i) == str])\n",
    "    return dict1\n",
    "\n",
    "my_func(list1)"
   ]
  },
  {
   "cell_type": "raw",
   "metadata": {},
   "source": [
    "Q9: Get only odd numbers from the following list and store the numbers in new list\n",
    "    li = [5, 7, 22, 97, 54, 62, 77, 23, 73, 61]\n",
    "\n",
    "    i. Use loops to get the answer\n",
    "   ii. Use list comprehensions\n",
    "  iii. Use lambda function with filter"
   ]
  },
  {
   "cell_type": "code",
   "execution_count": 20,
   "metadata": {},
   "outputs": [
    {
     "name": "stdout",
     "output_type": "stream",
     "text": [
      "[5, 7, 97, 77, 23, 73, 61]\n"
     ]
    }
   ],
   "source": [
    "# ii. using 'loops'\n",
    "\n",
    "li = [5, 7, 22, 97, 54, 62, 77, 23, 73, 61]\n",
    "new_list = []\n",
    "for i in li:\n",
    "    if i % 2 != 0:\n",
    "        new_list.append(i)\n",
    "print(new_list)    "
   ]
  },
  {
   "cell_type": "code",
   "execution_count": 21,
   "metadata": {},
   "outputs": [
    {
     "name": "stdout",
     "output_type": "stream",
     "text": [
      "[5, 7, 97, 77, 23, 73, 61]\n"
     ]
    }
   ],
   "source": [
    "# iii. using 'list comprehensions'\n",
    "\n",
    "li = [5, 7, 22, 97, 54, 62, 77, 23, 73, 61]\n",
    "new_list = [i for i in li if i % 2 != 0]\n",
    "print(new_list)"
   ]
  },
  {
   "cell_type": "code",
   "execution_count": 23,
   "metadata": {},
   "outputs": [
    {
     "name": "stdout",
     "output_type": "stream",
     "text": [
      "[5, 7, 97, 77, 23, 73, 61]\n"
     ]
    }
   ],
   "source": [
    "# i. using 'Lambda function with filter'\n",
    "\n",
    "li = [5, 7, 22, 97, 54, 62, 77, 23, 73, 61]\n",
    "\n",
    "new_list = list(filter(lambda i : i % 2 != 0, li))\n",
    "print(new_list)"
   ]
  },
  {
   "cell_type": "raw",
   "metadata": {},
   "source": [
    "Q10: Write a UDF to return the descriptives [sum, count, min, mean, max] for a list of n number of input \n",
    "    numbers."
   ]
  },
  {
   "cell_type": "code",
   "execution_count": 67,
   "metadata": {},
   "outputs": [
    {
     "data": {
      "text/plain": [
       "13.2"
      ]
     },
     "execution_count": 67,
     "metadata": {},
     "output_type": "execute_result"
    }
   ],
   "source": [
    "\n",
    "def aggregate(func_type, *args):\n",
    "    \"\"\"Returns the min, max, count, sum and mean of user provided list of numbers\"\"\"\n",
    "    if func_type == 'sum':\n",
    "        return sum(args)\n",
    "    if func_type == 'count':\n",
    "        return len(args)\n",
    "    if func_type == 'max':\n",
    "        return max(args)\n",
    "    if func_type == 'min':\n",
    "        return min(args)\n",
    "    if func_type == 'mean':\n",
    "        return mean(args)\n",
    "\n",
    "    \n",
    "aggregate('sum', 1,2,3,4,5)\n",
    "aggregate('min', 1,2,3,4,-8)\n",
    "aggregate('max', 1,2,3,4,87)\n",
    "aggregate('count', 1,2,3,4,5)\n",
    "aggregate('mean', 1,2,3,4,56)"
   ]
  },
  {
   "cell_type": "raw",
   "metadata": {},
   "source": [
    "Q11: Write an udf to calculate the area of different shapes\n",
    "\n",
    "Take shape and dimensions as arguments to udf as follows : \n",
    "\n",
    "1. square which has side\n",
    "2. rectangle which has length and width\n",
    "3. circle which has radius\n",
    "\n",
    "The shape should be a positional argument and it's dimensions are taken as kwargs\n",
    "\n",
    "Perform proper validation for the user inputs and then calculate area.\n",
    "\n",
    "E.g. if shape is square, ensure kwargs has \"side\" and if so, then you may return the area, else display appropriate error message like \"Please enter 'side' for a square\""
   ]
  },
  {
   "cell_type": "code",
   "execution_count": 36,
   "metadata": {},
   "outputs": [
    {
     "name": "stdout",
     "output_type": "stream",
     "text": [
      " Area of Square is 9\n"
     ]
    }
   ],
   "source": [
    "def calculate_area(shape, **dimensions):\n",
    "    \"\"\"Return the area of different shapes as per input provided by user\"\"\"\n",
    " \n",
    "    if shape == 'square':\n",
    "        key1 = list(dimensions.keys())[0]\n",
    "        if key1 == 'side':\n",
    "            area_sq = dimensions['side'] ** 2\n",
    "            print(f' Area of Square is {area_sq}')\n",
    "        else:\n",
    "            print(\"Please enter 'side' for square\")\n",
    "             \n",
    "    elif shape == 'rectangle':\n",
    "        key1 = list(dimensions.keys())[0]\n",
    "        key2 = list(dimensions.keys())[1]\n",
    "        if key1 == 'length' and key2 == 'width':\n",
    "            area_rect = dimensions['length'] * dimensions['width']\n",
    "            print(f' Area of Rectangle is {area_rect}')\n",
    "        else:\n",
    "            print(\"Please enter 'length and width' for rectangle\")\n",
    "        \n",
    "    elif shape == 'circle':\n",
    "        key1 = list(dimensions.keys())[0]\n",
    "        if key1 == 'radius':\n",
    "            area_circ = 3.14 * dimensions['radius'] ** 2\n",
    "            print(f' Area of Circle is {area_circ}')\n",
    "        else:\n",
    "            print(\"Please enter 'radius' for circle\")\n",
    "     \n",
    "    else:\n",
    "        print(\"Please enter correct keywords\")\n",
    "        \n",
    "             \n",
    "calculate_area('square', side = 3)\n",
    "    \n"
   ]
  },
  {
   "cell_type": "raw",
   "metadata": {},
   "source": [
    "Q12: Write a UDF to reconcile the values within two lists.\n",
    "    l1 = ['January', 'February', 'March', 'May', 'June', 'September', 'December']\n",
    "    l2 = ['January', 'February', 'April', 'June', 'October', 'December']\n",
    "\n",
    "Hint:\n",
    "-----\n",
    "def func(l1, l2):\n",
    "    your code here...\n",
    "    \n",
    "Output:\n",
    "{'Matched': ['January', 'February', 'June', 'December'],\n",
    "    'Only in l1': ['March', 'May', 'September'],\n",
    "        'Only in l2': ['April', 'October']}"
   ]
  },
  {
   "cell_type": "code",
   "execution_count": 1,
   "metadata": {},
   "outputs": [
    {
     "data": {
      "text/plain": [
       "{'Matched': ['January', 'December', 'June', 'February'],\n",
       " 'Only in l1': ['September', 'May', 'March'],\n",
       " 'Only in l2': ['October', 'April']}"
      ]
     },
     "execution_count": 1,
     "metadata": {},
     "output_type": "execute_result"
    }
   ],
   "source": [
    "l1 = ['January', 'February', 'March', 'May', 'June', 'September', 'December']\n",
    "l2 = ['January', 'February', 'April', 'June', 'October', 'December']\n",
    "\n",
    "def func(l1,l2):\n",
    "    x = set(l1)\n",
    "    y = set(l2)\n",
    "    result = {}\n",
    "    result['Matched'] = list(x.intersection(y))\n",
    "    result['Only in l1'] = list(x-y)\n",
    "    result['Only in l2'] = list(y-x)\n",
    "    return result\n",
    "\n",
    "func(l1,l2)\n"
   ]
  },
  {
   "cell_type": "raw",
   "metadata": {
    "collapsed": true
   },
   "source": [
    "Q13: write a UDF to check if a number is prime or not."
   ]
  },
  {
   "cell_type": "code",
   "execution_count": 3,
   "metadata": {},
   "outputs": [
    {
     "name": "stdout",
     "output_type": "stream",
     "text": [
      "Please enter a number - 7\n"
     ]
    },
    {
     "data": {
      "text/plain": [
       "True"
      ]
     },
     "execution_count": 3,
     "metadata": {},
     "output_type": "execute_result"
    }
   ],
   "source": [
    "num = int(input(\"Please enter a number - \"))\n",
    "\n",
    "def is_prime(num):\n",
    "    \n",
    "    if num == 1:\n",
    "        return False\n",
    "    if num == 2:\n",
    "        return True\n",
    "    for i in range(2,num):\n",
    "        if num % i == 0:\n",
    "            return False\n",
    "    return True\n",
    "\n",
    "is_prime(num)"
   ]
  },
  {
   "cell_type": "raw",
   "metadata": {
    "collapsed": true
   },
   "source": [
    "Q14. Write a program which can compute the factorial of a given numbers. \n",
    "#   The results should be printed in a comma-separated sequence on a single line. \n",
    "# input() function can be used for getting user(console) input\n",
    "\n",
    "\n",
    "#Suppose the input is supplied to the program:  8  \n",
    "#Then, the output should be:  40320 \n",
    "#Hints: In case of input data being supplied to the question, it should be assumed to be a console input. \n"
   ]
  },
  {
   "cell_type": "code",
   "execution_count": 22,
   "metadata": {},
   "outputs": [
    {
     "name": "stdout",
     "output_type": "stream",
     "text": [
      "Enter a number- 3\n",
      "The factorial of 3 is 6\n"
     ]
    }
   ],
   "source": [
    "num = int(input(\"Enter a number- \"))\n",
    "fact = 1\n",
    "if num < 0:\n",
    "        print(\"Factorial of negative number does not exist\")\n",
    "elif num == 0:\n",
    "        print(\"Factorial of 0 is 1\")\n",
    "else:\n",
    "    for i in range(1, num + 1):\n",
    "        fact = fact * i\n",
    "print(f'The factorial of {num} is {fact}')\n",
    "            \n",
    "    "
   ]
  },
  {
   "cell_type": "raw",
   "metadata": {
    "collapsed": true
   },
   "source": [
    "Q15. With a given integral number n, write a program to generate a dictionary that contains (i, i*i) such that is an integral number between 1 and n (both included). and then the program should print the dictionary.\n",
    "\n",
    "#Suppose the following input is supplied to the program: 8\n",
    "#Then, the output should be: {1: 1, 2: 4, 3: 9, 4: 16, 5: 25, 6: 36, 7: 49, 8: 64}\n",
    "#Hints: In case of input data being supplied to the question, it should be assumed to be a console input. Consider using dict()\n",
    "\n"
   ]
  },
  {
   "cell_type": "code",
   "execution_count": 4,
   "metadata": {},
   "outputs": [
    {
     "name": "stdout",
     "output_type": "stream",
     "text": [
      "Please enter a number 6\n"
     ]
    },
    {
     "data": {
      "text/plain": [
       "{1: 1, 2: 4, 3: 9, 4: 16, 5: 25, 6: 36}"
      ]
     },
     "execution_count": 4,
     "metadata": {},
     "output_type": "execute_result"
    }
   ],
   "source": [
    "num = int(input(\"Please enter a number \"))\n",
    "dict1 = {i:i * i for i in range(1, num + 1)}\n",
    "dict1"
   ]
  },
  {
   "cell_type": "raw",
   "metadata": {
    "collapsed": true
   },
   "source": [
    "Q16. Write a program which accepts a sequence of comma-separated numbers from console and generate a list and a tuple which contains every number.\n",
    "#Suppose the following input is supplied to the program: 34,67,55,33,12,98\n",
    "    #Then, the output should be: ['34', '67', '55', '33', '12', '98'] ('34', '67', '55', '33', '12', '98')\n",
    "\n",
    "#Hints: In case of input data being supplied to the question, it should be assumed to be a console input. you may use tuple() method to convert list to tuple\n"
   ]
  },
  {
   "cell_type": "code",
   "execution_count": 6,
   "metadata": {},
   "outputs": [
    {
     "name": "stdout",
     "output_type": "stream",
     "text": [
      "Please enter numbers : 1,2,3\n",
      "['1', '2', '3'] ('1', '2', '3')\n"
     ]
    }
   ],
   "source": [
    "num = input(\"Please enter numbers : \")\n",
    "l1 = num.split(\",\")\n",
    "t1 = tuple(l1)\n",
    "print(l1, end = \" \")\n",
    "print(t1)"
   ]
  },
  {
   "cell_type": "raw",
   "metadata": {
    "collapsed": true
   },
   "source": [
    "Q17. Write a program that accepts a comma separated sequence of words as input and \n",
    "# prints the words in a comma-separated sequence after sorting them alphabetically.\n",
    "\n",
    "# Suppose the following input is supplied to the program: without,hello,bag,world\n",
    "# Then, the output should be: bag,hello,without,world\n",
    "\n",
    "#Hints: In case of input data being supplied to the question, it should be assumed to be a console input.\n"
   ]
  },
  {
   "cell_type": "code",
   "execution_count": 54,
   "metadata": {},
   "outputs": [
    {
     "name": "stdout",
     "output_type": "stream",
     "text": [
      "Enter comma separated sequence of words : hello,this,is,my,code\n",
      "code, hello, is, my, this\n"
     ]
    }
   ],
   "source": [
    "words = input(\"Enter comma separated sequence of words : \")\n",
    "n = words.split(\",\")\n",
    "n.sort()\n",
    "print((\", \").join(n))"
   ]
  },
  {
   "cell_type": "raw",
   "metadata": {
    "collapsed": true
   },
   "source": [
    "Q18. Write a program that accepts a sequence of whitespace separated words \n",
    "# as input and prints the words after removing all duplicate words and sorting them alphanumerically.\n",
    "# Suppose the following input is supplied to the program: hello world and practice makes perfect and hello world again\n",
    "# Then, the output should be: again and hello makes perfect practice world\n",
    "\n",
    "#Hints: In case of input data being supplied to the question, it should be assumed to be a console input.\n",
    "#We use set container to remove duplicated data automatically and then use sorted() to sort the data.\n"
   ]
  },
  {
   "cell_type": "code",
   "execution_count": 64,
   "metadata": {},
   "outputs": [
    {
     "name": "stdout",
     "output_type": "stream",
     "text": [
      "Enter a sequence of whitespace separated words : hello world and practice makes perfect and hello world again\n",
      "again and hello makes perfect practice world\n"
     ]
    }
   ],
   "source": [
    "line = input('Enter a sequence of whitespace separated words : ')\n",
    "line1 = line.split(' ')\n",
    "line1 = set(line1)\n",
    "sorted_line = sorted(line1)\n",
    "print((' ').join(sorted_line))"
   ]
  },
  {
   "cell_type": "raw",
   "metadata": {
    "collapsed": true
   },
   "source": [
    "Q19. Write a program that accepts a sentence and calculate the number of upper case \n",
    "# letters and lower case letters.\n",
    "#Suppose the following input is supplied to the program: Hello world!\n",
    "#Then, the output should be: UPPER CASE 1 LOWER CASE 9\n",
    "\n",
    "#Hints: In case of input data being supplied to the question, it should be assumed to be a console input.\n"
   ]
  },
  {
   "cell_type": "code",
   "execution_count": 7,
   "metadata": {},
   "outputs": [
    {
     "name": "stdout",
     "output_type": "stream",
     "text": [
      "Enter a sentence : Hello World\n",
      "UPPER CASE - 2 LOWER CASE - 8\n"
     ]
    }
   ],
   "source": [
    "sentence = str(input('Enter a sentence : '))\n",
    "\n",
    "upper , lower = 0,0\n",
    "for i in sentence:\n",
    "    if i.isupper():\n",
    "        upper = upper + 1\n",
    "    elif i.islower():\n",
    "        lower = lower + 1\n",
    "    else:\n",
    "        pass\n",
    "print('UPPER CASE -', upper,'LOWER CASE -', lower)"
   ]
  },
  {
   "cell_type": "raw",
   "metadata": {
    "collapsed": true
   },
   "source": [
    "Q20. Write a program that takes a string and returns reversed string. i.e. if input is \"abcd123\" output should be \"321dcba\""
   ]
  },
  {
   "cell_type": "code",
   "execution_count": 23,
   "metadata": {},
   "outputs": [
    {
     "name": "stdout",
     "output_type": "stream",
     "text": [
      "Please enter a string Hello15436\n",
      "63451olleH\n"
     ]
    }
   ],
   "source": [
    "str_input = str(input(\"Please enter a string \"))\n",
    "str_1 = str_input[::-1]\n",
    "print(str_1)"
   ]
  }
 ],
 "metadata": {
  "kernelspec": {
   "display_name": "Python 3 (ipykernel)",
   "language": "python",
   "name": "python3"
  },
  "language_info": {
   "codemirror_mode": {
    "name": "ipython",
    "version": 3
   },
   "file_extension": ".py",
   "mimetype": "text/x-python",
   "name": "python",
   "nbconvert_exporter": "python",
   "pygments_lexer": "ipython3",
   "version": "3.9.13"
  },
  "varInspector": {
   "cols": {
    "lenName": 16,
    "lenType": 16,
    "lenVar": 40
   },
   "kernels_config": {
    "python": {
     "delete_cmd_postfix": "",
     "delete_cmd_prefix": "del ",
     "library": "var_list.py",
     "varRefreshCmd": "print(var_dic_list())"
    },
    "r": {
     "delete_cmd_postfix": ") ",
     "delete_cmd_prefix": "rm(",
     "library": "var_list.r",
     "varRefreshCmd": "cat(var_dic_list()) "
    }
   },
   "types_to_exclude": [
    "module",
    "function",
    "builtin_function_or_method",
    "instance",
    "_Feature"
   ],
   "window_display": false
  }
 },
 "nbformat": 4,
 "nbformat_minor": 2
}
