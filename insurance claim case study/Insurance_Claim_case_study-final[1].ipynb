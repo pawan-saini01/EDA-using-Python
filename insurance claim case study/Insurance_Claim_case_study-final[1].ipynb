{
 "cells": [
  {
   "cell_type": "code",
   "execution_count": 1,
   "id": "56370df3",
   "metadata": {},
   "outputs": [],
   "source": [
    "import pandas as pd\n",
    "import numpy as np\n",
    "import matplotlib.pyplot as plt\n",
    "import datetime as dt\n",
    "import seaborn as sns\n",
    "import re\n",
    "\n",
    "# set the graphs to show in the jupyter notebook\n",
    "%matplotlib inline\n",
    "\n",
    "# set seabor graphs to a better style\n",
    "sns.set(style=\"ticks\")"
   ]
  },
  {
   "cell_type": "markdown",
   "id": "56a2f768",
   "metadata": {},
   "source": [
    "## 1. Import claims_data.csv and cust_data.csv which is provided to you and combine the two datasets appropriately to create a 360-degree view of the data. Use the same for the subsequent questions."
   ]
  },
  {
   "cell_type": "code",
   "execution_count": 44,
   "id": "a3553461",
   "metadata": {},
   "outputs": [
    {
     "data": {
      "text/html": [
       "<div>\n",
       "<style scoped>\n",
       "    .dataframe tbody tr th:only-of-type {\n",
       "        vertical-align: middle;\n",
       "    }\n",
       "\n",
       "    .dataframe tbody tr th {\n",
       "        vertical-align: top;\n",
       "    }\n",
       "\n",
       "    .dataframe thead th {\n",
       "        text-align: right;\n",
       "    }\n",
       "</style>\n",
       "<table border=\"1\" class=\"dataframe\">\n",
       "  <thead>\n",
       "    <tr style=\"text-align: right;\">\n",
       "      <th></th>\n",
       "      <th>claim_id</th>\n",
       "      <th>customer_id</th>\n",
       "      <th>incident_cause</th>\n",
       "      <th>claim_date</th>\n",
       "      <th>claim_area</th>\n",
       "      <th>police_report</th>\n",
       "      <th>claim_type</th>\n",
       "      <th>claim_amount</th>\n",
       "      <th>total_policy_claims</th>\n",
       "      <th>fraudulent</th>\n",
       "    </tr>\n",
       "  </thead>\n",
       "  <tbody>\n",
       "    <tr>\n",
       "      <th>0</th>\n",
       "      <td>54004764</td>\n",
       "      <td>21868593</td>\n",
       "      <td>Driver error</td>\n",
       "      <td>11/27/2017</td>\n",
       "      <td>Auto</td>\n",
       "      <td>No</td>\n",
       "      <td>Material only</td>\n",
       "      <td>$2980</td>\n",
       "      <td>1.0</td>\n",
       "      <td>No</td>\n",
       "    </tr>\n",
       "    <tr>\n",
       "      <th>1</th>\n",
       "      <td>33985796</td>\n",
       "      <td>75740424</td>\n",
       "      <td>Crime</td>\n",
       "      <td>10/03/2018</td>\n",
       "      <td>Home</td>\n",
       "      <td>Unknown</td>\n",
       "      <td>Material only</td>\n",
       "      <td>$2980</td>\n",
       "      <td>3.0</td>\n",
       "      <td>No</td>\n",
       "    </tr>\n",
       "    <tr>\n",
       "      <th>2</th>\n",
       "      <td>53522022</td>\n",
       "      <td>30308357</td>\n",
       "      <td>Other driver error</td>\n",
       "      <td>02/02/2018</td>\n",
       "      <td>Auto</td>\n",
       "      <td>No</td>\n",
       "      <td>Material only</td>\n",
       "      <td>$3369.5</td>\n",
       "      <td>1.0</td>\n",
       "      <td>Yes</td>\n",
       "    </tr>\n",
       "    <tr>\n",
       "      <th>3</th>\n",
       "      <td>13015401</td>\n",
       "      <td>47830476</td>\n",
       "      <td>Natural causes</td>\n",
       "      <td>06/17/2018</td>\n",
       "      <td>Auto</td>\n",
       "      <td>No</td>\n",
       "      <td>Material only</td>\n",
       "      <td>$1680</td>\n",
       "      <td>1.0</td>\n",
       "      <td>No</td>\n",
       "    </tr>\n",
       "    <tr>\n",
       "      <th>4</th>\n",
       "      <td>22890252</td>\n",
       "      <td>19269962</td>\n",
       "      <td>Crime</td>\n",
       "      <td>01/13/2018</td>\n",
       "      <td>Auto</td>\n",
       "      <td>No</td>\n",
       "      <td>Material only</td>\n",
       "      <td>$2680</td>\n",
       "      <td>1.0</td>\n",
       "      <td>No</td>\n",
       "    </tr>\n",
       "  </tbody>\n",
       "</table>\n",
       "</div>"
      ],
      "text/plain": [
       "   claim_id  customer_id      incident_cause  claim_date claim_area  \\\n",
       "0  54004764     21868593        Driver error  11/27/2017       Auto   \n",
       "1  33985796     75740424               Crime  10/03/2018       Home   \n",
       "2  53522022     30308357  Other driver error  02/02/2018       Auto   \n",
       "3  13015401     47830476      Natural causes  06/17/2018       Auto   \n",
       "4  22890252     19269962               Crime  01/13/2018       Auto   \n",
       "\n",
       "  police_report     claim_type claim_amount  total_policy_claims fraudulent  \n",
       "0            No  Material only        $2980                  1.0         No  \n",
       "1       Unknown  Material only        $2980                  3.0         No  \n",
       "2            No  Material only      $3369.5                  1.0        Yes  \n",
       "3            No  Material only        $1680                  1.0         No  \n",
       "4            No  Material only        $2680                  1.0         No  "
      ]
     },
     "execution_count": 44,
     "metadata": {},
     "output_type": "execute_result"
    }
   ],
   "source": [
    "claim_data = pd.read_csv(\"claims.csv\")\n",
    "claim_data.head()"
   ]
  },
  {
   "cell_type": "code",
   "execution_count": 45,
   "id": "9ea838be",
   "metadata": {},
   "outputs": [
    {
     "data": {
      "text/html": [
       "<div>\n",
       "<style scoped>\n",
       "    .dataframe tbody tr th:only-of-type {\n",
       "        vertical-align: middle;\n",
       "    }\n",
       "\n",
       "    .dataframe tbody tr th {\n",
       "        vertical-align: top;\n",
       "    }\n",
       "\n",
       "    .dataframe thead th {\n",
       "        text-align: right;\n",
       "    }\n",
       "</style>\n",
       "<table border=\"1\" class=\"dataframe\">\n",
       "  <thead>\n",
       "    <tr style=\"text-align: right;\">\n",
       "      <th></th>\n",
       "      <th>CUST_ID</th>\n",
       "      <th>gender</th>\n",
       "      <th>DateOfBirth</th>\n",
       "      <th>State</th>\n",
       "      <th>Contact</th>\n",
       "      <th>Segment</th>\n",
       "    </tr>\n",
       "  </thead>\n",
       "  <tbody>\n",
       "    <tr>\n",
       "      <th>0</th>\n",
       "      <td>21868593</td>\n",
       "      <td>Female</td>\n",
       "      <td>12-Jan-79</td>\n",
       "      <td>VT</td>\n",
       "      <td>789-916-8172</td>\n",
       "      <td>Platinum</td>\n",
       "    </tr>\n",
       "    <tr>\n",
       "      <th>1</th>\n",
       "      <td>75740424</td>\n",
       "      <td>Female</td>\n",
       "      <td>13-Jan-70</td>\n",
       "      <td>ME</td>\n",
       "      <td>265-543-1264</td>\n",
       "      <td>Silver</td>\n",
       "    </tr>\n",
       "    <tr>\n",
       "      <th>2</th>\n",
       "      <td>30308357</td>\n",
       "      <td>Female</td>\n",
       "      <td>11-Mar-84</td>\n",
       "      <td>TN</td>\n",
       "      <td>798-631-4758</td>\n",
       "      <td>Silver</td>\n",
       "    </tr>\n",
       "    <tr>\n",
       "      <th>3</th>\n",
       "      <td>47830476</td>\n",
       "      <td>Female</td>\n",
       "      <td>01-May-86</td>\n",
       "      <td>MA</td>\n",
       "      <td>413-187-7945</td>\n",
       "      <td>Silver</td>\n",
       "    </tr>\n",
       "    <tr>\n",
       "      <th>4</th>\n",
       "      <td>19269962</td>\n",
       "      <td>Male</td>\n",
       "      <td>13-May-77</td>\n",
       "      <td>NV</td>\n",
       "      <td>956-871-8691</td>\n",
       "      <td>Gold</td>\n",
       "    </tr>\n",
       "  </tbody>\n",
       "</table>\n",
       "</div>"
      ],
      "text/plain": [
       "    CUST_ID  gender DateOfBirth State       Contact   Segment\n",
       "0  21868593  Female   12-Jan-79    VT  789-916-8172  Platinum\n",
       "1  75740424  Female   13-Jan-70    ME  265-543-1264    Silver\n",
       "2  30308357  Female   11-Mar-84    TN  798-631-4758    Silver\n",
       "3  47830476  Female   01-May-86    MA  413-187-7945    Silver\n",
       "4  19269962    Male   13-May-77    NV  956-871-8691      Gold"
      ]
     },
     "execution_count": 45,
     "metadata": {},
     "output_type": "execute_result"
    }
   ],
   "source": [
    "cust_data = pd.read_csv(\"cust_demographics.csv\")\n",
    "cust_data.head()"
   ]
  },
  {
   "cell_type": "code",
   "execution_count": 46,
   "id": "c032eb60",
   "metadata": {},
   "outputs": [
    {
     "data": {
      "text/html": [
       "<div>\n",
       "<style scoped>\n",
       "    .dataframe tbody tr th:only-of-type {\n",
       "        vertical-align: middle;\n",
       "    }\n",
       "\n",
       "    .dataframe tbody tr th {\n",
       "        vertical-align: top;\n",
       "    }\n",
       "\n",
       "    .dataframe thead th {\n",
       "        text-align: right;\n",
       "    }\n",
       "</style>\n",
       "<table border=\"1\" class=\"dataframe\">\n",
       "  <thead>\n",
       "    <tr style=\"text-align: right;\">\n",
       "      <th></th>\n",
       "      <th>claim_id</th>\n",
       "      <th>customer_id</th>\n",
       "      <th>incident_cause</th>\n",
       "      <th>claim_date</th>\n",
       "      <th>claim_area</th>\n",
       "      <th>police_report</th>\n",
       "      <th>claim_type</th>\n",
       "      <th>claim_amount</th>\n",
       "      <th>total_policy_claims</th>\n",
       "      <th>fraudulent</th>\n",
       "      <th>CUST_ID</th>\n",
       "      <th>gender</th>\n",
       "      <th>DateOfBirth</th>\n",
       "      <th>State</th>\n",
       "      <th>Contact</th>\n",
       "      <th>Segment</th>\n",
       "    </tr>\n",
       "  </thead>\n",
       "  <tbody>\n",
       "    <tr>\n",
       "      <th>0</th>\n",
       "      <td>54004764.0</td>\n",
       "      <td>21868593.0</td>\n",
       "      <td>Driver error</td>\n",
       "      <td>11/27/2017</td>\n",
       "      <td>Auto</td>\n",
       "      <td>No</td>\n",
       "      <td>Material only</td>\n",
       "      <td>$2980</td>\n",
       "      <td>1.0</td>\n",
       "      <td>No</td>\n",
       "      <td>21868593.0</td>\n",
       "      <td>Female</td>\n",
       "      <td>12-Jan-79</td>\n",
       "      <td>VT</td>\n",
       "      <td>789-916-8172</td>\n",
       "      <td>Platinum</td>\n",
       "    </tr>\n",
       "    <tr>\n",
       "      <th>1</th>\n",
       "      <td>33985796.0</td>\n",
       "      <td>75740424.0</td>\n",
       "      <td>Crime</td>\n",
       "      <td>10/03/2018</td>\n",
       "      <td>Home</td>\n",
       "      <td>Unknown</td>\n",
       "      <td>Material only</td>\n",
       "      <td>$2980</td>\n",
       "      <td>3.0</td>\n",
       "      <td>No</td>\n",
       "      <td>75740424.0</td>\n",
       "      <td>Female</td>\n",
       "      <td>13-Jan-70</td>\n",
       "      <td>ME</td>\n",
       "      <td>265-543-1264</td>\n",
       "      <td>Silver</td>\n",
       "    </tr>\n",
       "    <tr>\n",
       "      <th>2</th>\n",
       "      <td>53522022.0</td>\n",
       "      <td>30308357.0</td>\n",
       "      <td>Other driver error</td>\n",
       "      <td>02/02/2018</td>\n",
       "      <td>Auto</td>\n",
       "      <td>No</td>\n",
       "      <td>Material only</td>\n",
       "      <td>$3369.5</td>\n",
       "      <td>1.0</td>\n",
       "      <td>Yes</td>\n",
       "      <td>30308357.0</td>\n",
       "      <td>Female</td>\n",
       "      <td>11-Mar-84</td>\n",
       "      <td>TN</td>\n",
       "      <td>798-631-4758</td>\n",
       "      <td>Silver</td>\n",
       "    </tr>\n",
       "    <tr>\n",
       "      <th>3</th>\n",
       "      <td>63017412.0</td>\n",
       "      <td>30308357.0</td>\n",
       "      <td>Driver error</td>\n",
       "      <td>04/04/2018</td>\n",
       "      <td>Auto</td>\n",
       "      <td>No</td>\n",
       "      <td>Material only</td>\n",
       "      <td>$1950</td>\n",
       "      <td>6.0</td>\n",
       "      <td>No</td>\n",
       "      <td>30308357.0</td>\n",
       "      <td>Female</td>\n",
       "      <td>11-Mar-84</td>\n",
       "      <td>TN</td>\n",
       "      <td>798-631-4758</td>\n",
       "      <td>Silver</td>\n",
       "    </tr>\n",
       "    <tr>\n",
       "      <th>4</th>\n",
       "      <td>13015401.0</td>\n",
       "      <td>47830476.0</td>\n",
       "      <td>Natural causes</td>\n",
       "      <td>06/17/2018</td>\n",
       "      <td>Auto</td>\n",
       "      <td>No</td>\n",
       "      <td>Material only</td>\n",
       "      <td>$1680</td>\n",
       "      <td>1.0</td>\n",
       "      <td>No</td>\n",
       "      <td>47830476.0</td>\n",
       "      <td>Female</td>\n",
       "      <td>01-May-86</td>\n",
       "      <td>MA</td>\n",
       "      <td>413-187-7945</td>\n",
       "      <td>Silver</td>\n",
       "    </tr>\n",
       "  </tbody>\n",
       "</table>\n",
       "</div>"
      ],
      "text/plain": [
       "     claim_id  customer_id      incident_cause  claim_date claim_area  \\\n",
       "0  54004764.0   21868593.0        Driver error  11/27/2017       Auto   \n",
       "1  33985796.0   75740424.0               Crime  10/03/2018       Home   \n",
       "2  53522022.0   30308357.0  Other driver error  02/02/2018       Auto   \n",
       "3  63017412.0   30308357.0        Driver error  04/04/2018       Auto   \n",
       "4  13015401.0   47830476.0      Natural causes  06/17/2018       Auto   \n",
       "\n",
       "  police_report     claim_type claim_amount  total_policy_claims fraudulent  \\\n",
       "0            No  Material only        $2980                  1.0         No   \n",
       "1       Unknown  Material only        $2980                  3.0         No   \n",
       "2            No  Material only      $3369.5                  1.0        Yes   \n",
       "3            No  Material only        $1950                  6.0         No   \n",
       "4            No  Material only        $1680                  1.0         No   \n",
       "\n",
       "      CUST_ID  gender DateOfBirth State       Contact   Segment  \n",
       "0  21868593.0  Female   12-Jan-79    VT  789-916-8172  Platinum  \n",
       "1  75740424.0  Female   13-Jan-70    ME  265-543-1264    Silver  \n",
       "2  30308357.0  Female   11-Mar-84    TN  798-631-4758    Silver  \n",
       "3  30308357.0  Female   11-Mar-84    TN  798-631-4758    Silver  \n",
       "4  47830476.0  Female   01-May-86    MA  413-187-7945    Silver  "
      ]
     },
     "execution_count": 46,
     "metadata": {},
     "output_type": "execute_result"
    }
   ],
   "source": [
    "insurance_claim = pd.merge(left = claim_data, right = cust_data, left_on = 'customer_id', right_on = 'CUST_ID', how = 'outer')\n",
    "insurance_claim.head()"
   ]
  },
  {
   "cell_type": "code",
   "execution_count": 47,
   "id": "b30ac967",
   "metadata": {},
   "outputs": [],
   "source": [
    "insurance_claim.drop(columns ='CUST_ID', inplace = True)"
   ]
  },
  {
   "cell_type": "markdown",
   "id": "14939388",
   "metadata": {},
   "source": [
    "## 2. Perform a data audit for the datatypes and find out if there are any mismatch within the current datatypes of the columns and their business significance."
   ]
  },
  {
   "cell_type": "code",
   "execution_count": 48,
   "id": "7f625199",
   "metadata": {},
   "outputs": [
    {
     "name": "stdout",
     "output_type": "stream",
     "text": [
      "<class 'pandas.core.frame.DataFrame'>\n",
      "Int64Index: 1107 entries, 0 to 1106\n",
      "Data columns (total 15 columns):\n",
      " #   Column               Non-Null Count  Dtype  \n",
      "---  ------               --------------  -----  \n",
      " 0   claim_id             1100 non-null   float64\n",
      " 1   customer_id          1100 non-null   float64\n",
      " 2   incident_cause       1100 non-null   object \n",
      " 3   claim_date           1100 non-null   object \n",
      " 4   claim_area           1100 non-null   object \n",
      " 5   police_report        1100 non-null   object \n",
      " 6   claim_type           1100 non-null   object \n",
      " 7   claim_amount         1035 non-null   object \n",
      " 8   total_policy_claims  1090 non-null   float64\n",
      " 9   fraudulent           1100 non-null   object \n",
      " 10  gender               1092 non-null   object \n",
      " 11  DateOfBirth          1092 non-null   object \n",
      " 12  State                1092 non-null   object \n",
      " 13  Contact              1092 non-null   object \n",
      " 14  Segment              1092 non-null   object \n",
      "dtypes: float64(3), object(12)\n",
      "memory usage: 138.4+ KB\n"
     ]
    }
   ],
   "source": [
    "insurance_claim.info()"
   ]
  },
  {
   "cell_type": "code",
   "execution_count": 49,
   "id": "703ed65e",
   "metadata": {},
   "outputs": [],
   "source": [
    "## After seeing the data info, we need to change the data type of columns: claim_date, claim_amount, DateOfBirth \n",
    "\n",
    "insurance_claim.claim_date = pd.to_datetime(insurance_claim['claim_date'], format = \"%m/%d/%Y\")"
   ]
  },
  {
   "cell_type": "code",
   "execution_count": 50,
   "id": "76767118",
   "metadata": {},
   "outputs": [],
   "source": [
    "insurance_claim['DateOfBirth'] = pd.to_datetime(insurance_claim['DateOfBirth'], format = \"%d-%b-%y\")"
   ]
  },
  {
   "cell_type": "code",
   "execution_count": 51,
   "id": "3fcfce13",
   "metadata": {},
   "outputs": [],
   "source": [
    "insurance_claim['DateOfBirth'] = insurance_claim.DateOfBirth.apply( lambda x : x - pd.DateOffset(years = 100) if x.year > 2000 else x)"
   ]
  },
  {
   "cell_type": "code",
   "execution_count": 79,
   "id": "ad56e7e9",
   "metadata": {},
   "outputs": [],
   "source": [
    "insurance_claim['total_policy_claims'] = insurance_claim['total_policy_claims'].astype('object')"
   ]
  },
  {
   "cell_type": "markdown",
   "id": "2cb868c9",
   "metadata": {},
   "source": [
    "## 3. Convert the column claim_amount to numeric. Use the appropriate modules/attributes to remove the $ sign."
   ]
  },
  {
   "cell_type": "code",
   "execution_count": 53,
   "id": "9a5297c2",
   "metadata": {},
   "outputs": [
    {
     "name": "stderr",
     "output_type": "stream",
     "text": [
      "C:\\Users\\pawans\\AppData\\Local\\Temp\\ipykernel_11424\\1569275133.py:1: FutureWarning: The default value of regex will change from True to False in a future version. In addition, single character regular expressions will *not* be treated as literal strings when regex=True.\n",
      "  insurance_claim.claim_amount = insurance_claim['claim_amount'].str.replace(\"$\", \"\")\n"
     ]
    }
   ],
   "source": [
    "insurance_claim.claim_amount = insurance_claim['claim_amount'].str.replace(\"$\", \"\")"
   ]
  },
  {
   "cell_type": "code",
   "execution_count": 54,
   "id": "83abd452",
   "metadata": {},
   "outputs": [],
   "source": [
    "insurance_claim.claim_amount = insurance_claim['claim_amount'].astype(\"float\")"
   ]
  },
  {
   "cell_type": "code",
   "execution_count": 80,
   "id": "2a6027a9",
   "metadata": {},
   "outputs": [
    {
     "name": "stdout",
     "output_type": "stream",
     "text": [
      "<class 'pandas.core.frame.DataFrame'>\n",
      "Int64Index: 1094 entries, 1055 to 1100\n",
      "Data columns (total 18 columns):\n",
      " #   Column               Non-Null Count  Dtype         \n",
      "---  ------               --------------  -----         \n",
      " 0   claim_id             1094 non-null   float64       \n",
      " 1   customer_id          1094 non-null   float64       \n",
      " 2   incident_cause       1094 non-null   object        \n",
      " 3   claim_date           1094 non-null   datetime64[ns]\n",
      " 4   claim_area           1094 non-null   object        \n",
      " 5   police_report        1094 non-null   object        \n",
      " 6   claim_type           1094 non-null   object        \n",
      " 7   claim_amount         1094 non-null   float64       \n",
      " 8   total_policy_claims  1094 non-null   object        \n",
      " 9   fraudulent           1094 non-null   object        \n",
      " 10  gender               1094 non-null   object        \n",
      " 11  DateOfBirth          1094 non-null   datetime64[ns]\n",
      " 12  State                1094 non-null   object        \n",
      " 13  Contact              1094 non-null   object        \n",
      " 14  Segment              1094 non-null   object        \n",
      " 15  alert_flag           1094 non-null   int32         \n",
      " 16  age                  1094 non-null   float64       \n",
      " 17  age_category         1094 non-null   category      \n",
      "dtypes: category(1), datetime64[ns](2), float64(4), int32(1), object(10)\n",
      "memory usage: 150.8+ KB\n"
     ]
    }
   ],
   "source": [
    "insurance_claim.info()"
   ]
  },
  {
   "cell_type": "markdown",
   "id": "5dd0a8ca",
   "metadata": {},
   "source": [
    "## 4. Of all the injury claims, some of them have gone unreported with the police. Create an alert flag (1,0) for all such claims."
   ]
  },
  {
   "cell_type": "code",
   "execution_count": 56,
   "id": "69b6be95",
   "metadata": {},
   "outputs": [
    {
     "data": {
      "text/plain": [
       "array(['Material only', 'Injury only', 'Material and injury', nan],\n",
       "      dtype=object)"
      ]
     },
     "execution_count": 56,
     "metadata": {},
     "output_type": "execute_result"
    }
   ],
   "source": [
    "insurance_claim.claim_type.unique()"
   ]
  },
  {
   "cell_type": "code",
   "execution_count": 57,
   "id": "c8cb0aac",
   "metadata": {},
   "outputs": [],
   "source": [
    "insurance_claim['alert_flag'] = np.where((insurance_claim.claim_type.str.contains('injury', case = False)) & (insurance_claim.police_report == 'No'), 1 , 0)"
   ]
  },
  {
   "cell_type": "code",
   "execution_count": 58,
   "id": "a65230da",
   "metadata": {},
   "outputs": [
    {
     "data": {
      "text/plain": [
       "array(['No', 'Unknown', 'Yes', nan], dtype=object)"
      ]
     },
     "execution_count": 58,
     "metadata": {},
     "output_type": "execute_result"
    }
   ],
   "source": [
    "insurance_claim.police_report.unique()"
   ]
  },
  {
   "cell_type": "markdown",
   "id": "46a76197",
   "metadata": {},
   "source": [
    "## 5. One customer can claim for insurance more than once and in each claim, multiple categories of claims can be involved. However, customer ID should remain unique.\n",
    "## Retain the most recent observation and delete any duplicated records in the data based on the customer ID column."
   ]
  },
  {
   "cell_type": "code",
   "execution_count": 60,
   "id": "c1743530",
   "metadata": {},
   "outputs": [],
   "source": [
    "# sort the DataFrame by date in descending order\n",
    "insurance_claim.sort_values('claim_date', ascending = False, inplace = True)\n",
    "\n",
    "# drop duplicates based on customer_id, keeping the most recent observation\n",
    "insurance_claim.drop_duplicates(subset = ['customer_id'], keep = 'first', inplace = True)"
   ]
  },
  {
   "cell_type": "code",
   "execution_count": 61,
   "id": "18883f26",
   "metadata": {},
   "outputs": [
    {
     "data": {
      "text/plain": [
       "(1094, 16)"
      ]
     },
     "execution_count": 61,
     "metadata": {},
     "output_type": "execute_result"
    }
   ],
   "source": [
    "insurance_claim.shape"
   ]
  },
  {
   "cell_type": "markdown",
   "id": "3c1be2bf",
   "metadata": {},
   "source": [
    "## 6. Check for missing values and impute the missing values with an appropriate value. (mean for continuous and mode for categorical)"
   ]
  },
  {
   "cell_type": "code",
   "execution_count": 62,
   "id": "8160ab2c",
   "metadata": {},
   "outputs": [
    {
     "data": {
      "text/plain": [
       "claim_id                1\n",
       "customer_id             1\n",
       "incident_cause          1\n",
       "claim_date              1\n",
       "claim_area              1\n",
       "police_report           1\n",
       "claim_type              1\n",
       "claim_amount           66\n",
       "total_policy_claims    11\n",
       "fraudulent              1\n",
       "gender                 15\n",
       "DateOfBirth            15\n",
       "State                  15\n",
       "Contact                15\n",
       "Segment                15\n",
       "alert_flag              0\n",
       "dtype: int64"
      ]
     },
     "execution_count": 62,
     "metadata": {},
     "output_type": "execute_result"
    }
   ],
   "source": [
    "insurance_claim.isna().sum()"
   ]
  },
  {
   "cell_type": "code",
   "execution_count": 63,
   "id": "b41244d9",
   "metadata": {},
   "outputs": [
    {
     "data": {
      "text/plain": [
       "Index(['claim_id', 'customer_id', 'claim_amount', 'alert_flag'], dtype='object')"
      ]
     },
     "execution_count": 63,
     "metadata": {},
     "output_type": "execute_result"
    }
   ],
   "source": [
    "continuous_col = insurance_claim.select_dtypes(include = [\"number\"]).columns\n",
    "continuous_col"
   ]
  },
  {
   "cell_type": "code",
   "execution_count": 64,
   "id": "d4124ae7",
   "metadata": {},
   "outputs": [
    {
     "data": {
      "text/plain": [
       "Index(['incident_cause', 'claim_date', 'claim_area', 'police_report',\n",
       "       'claim_type', 'total_policy_claims', 'fraudulent', 'gender',\n",
       "       'DateOfBirth', 'State', 'Contact', 'Segment'],\n",
       "      dtype='object')"
      ]
     },
     "execution_count": 64,
     "metadata": {},
     "output_type": "execute_result"
    }
   ],
   "source": [
    "categorical_col = insurance_claim.select_dtypes(include = [\"object\", 'datetime']).columns\n",
    "categorical_col"
   ]
  },
  {
   "cell_type": "code",
   "execution_count": 65,
   "id": "e1b584c3",
   "metadata": {},
   "outputs": [],
   "source": [
    "for col in continuous_col:\n",
    "    insurance_claim[col].fillna(insurance_claim[col].mean(), inplace = True)"
   ]
  },
  {
   "cell_type": "code",
   "execution_count": 66,
   "id": "b77fe882",
   "metadata": {},
   "outputs": [],
   "source": [
    "for col in categorical_col:\n",
    "    insurance_claim[col].fillna(insurance_claim[col].mode()[0], inplace = True)"
   ]
  },
  {
   "cell_type": "code",
   "execution_count": 67,
   "id": "4e15d431",
   "metadata": {},
   "outputs": [
    {
     "data": {
      "text/plain": [
       "claim_id               0\n",
       "customer_id            0\n",
       "incident_cause         0\n",
       "claim_date             0\n",
       "claim_area             0\n",
       "police_report          0\n",
       "claim_type             0\n",
       "claim_amount           0\n",
       "total_policy_claims    0\n",
       "fraudulent             0\n",
       "gender                 0\n",
       "DateOfBirth            0\n",
       "State                  0\n",
       "Contact                0\n",
       "Segment                0\n",
       "alert_flag             0\n",
       "dtype: int64"
      ]
     },
     "execution_count": 67,
     "metadata": {},
     "output_type": "execute_result"
    }
   ],
   "source": [
    "insurance_claim.isna().sum()"
   ]
  },
  {
   "cell_type": "markdown",
   "id": "1fad65a9",
   "metadata": {},
   "source": [
    "## 7. Calculate the age of customers in years. Based on the age, categorize the customers according to the below criteria\n",
    "### Children < 18\n",
    "### Youth 18-30\n",
    "### Adult 30-60\n",
    "### Senior > 60"
   ]
  },
  {
   "cell_type": "code",
   "execution_count": 68,
   "id": "c050659d",
   "metadata": {},
   "outputs": [],
   "source": [
    "insurance_claim['age'] = (pd.Timestamp.now() - insurance_claim['DateOfBirth']).astype('<m8[Y]')"
   ]
  },
  {
   "cell_type": "code",
   "execution_count": 69,
   "id": "866a9a55",
   "metadata": {},
   "outputs": [],
   "source": [
    "bins = [0, 18, 30, 60, 100]\n",
    "labels = ['Children', 'Youth', 'Adult', 'Senior']\n",
    "insurance_claim['age_category'] = pd.cut(insurance_claim['age'], bins = bins, labels = labels)"
   ]
  },
  {
   "cell_type": "code",
   "execution_count": 70,
   "id": "1bbd829d",
   "metadata": {},
   "outputs": [
    {
     "data": {
      "text/html": [
       "<div>\n",
       "<style scoped>\n",
       "    .dataframe tbody tr th:only-of-type {\n",
       "        vertical-align: middle;\n",
       "    }\n",
       "\n",
       "    .dataframe tbody tr th {\n",
       "        vertical-align: top;\n",
       "    }\n",
       "\n",
       "    .dataframe thead th {\n",
       "        text-align: right;\n",
       "    }\n",
       "</style>\n",
       "<table border=\"1\" class=\"dataframe\">\n",
       "  <thead>\n",
       "    <tr style=\"text-align: right;\">\n",
       "      <th></th>\n",
       "      <th>claim_id</th>\n",
       "      <th>customer_id</th>\n",
       "      <th>incident_cause</th>\n",
       "      <th>claim_date</th>\n",
       "      <th>claim_area</th>\n",
       "      <th>police_report</th>\n",
       "      <th>claim_type</th>\n",
       "      <th>claim_amount</th>\n",
       "      <th>total_policy_claims</th>\n",
       "      <th>fraudulent</th>\n",
       "      <th>gender</th>\n",
       "      <th>DateOfBirth</th>\n",
       "      <th>State</th>\n",
       "      <th>Contact</th>\n",
       "      <th>Segment</th>\n",
       "      <th>alert_flag</th>\n",
       "      <th>age</th>\n",
       "      <th>age_category</th>\n",
       "    </tr>\n",
       "  </thead>\n",
       "  <tbody>\n",
       "    <tr>\n",
       "      <th>1055</th>\n",
       "      <td>43042986.0</td>\n",
       "      <td>58451506.0</td>\n",
       "      <td>Natural causes</td>\n",
       "      <td>2018-10-30</td>\n",
       "      <td>Auto</td>\n",
       "      <td>No</td>\n",
       "      <td>Material only</td>\n",
       "      <td>2420.0</td>\n",
       "      <td>1.0</td>\n",
       "      <td>No</td>\n",
       "      <td>Male</td>\n",
       "      <td>1968-04-22</td>\n",
       "      <td>FL</td>\n",
       "      <td>673-574-7823</td>\n",
       "      <td>Gold</td>\n",
       "      <td>0</td>\n",
       "      <td>54.0</td>\n",
       "      <td>Adult</td>\n",
       "    </tr>\n",
       "    <tr>\n",
       "      <th>286</th>\n",
       "      <td>99775483.0</td>\n",
       "      <td>93915431.0</td>\n",
       "      <td>Other causes</td>\n",
       "      <td>2018-10-30</td>\n",
       "      <td>Auto</td>\n",
       "      <td>No</td>\n",
       "      <td>Material and injury</td>\n",
       "      <td>42124.5</td>\n",
       "      <td>1.0</td>\n",
       "      <td>Yes</td>\n",
       "      <td>Male</td>\n",
       "      <td>1967-09-08</td>\n",
       "      <td>ME</td>\n",
       "      <td>134-785-1687</td>\n",
       "      <td>Gold</td>\n",
       "      <td>1</td>\n",
       "      <td>55.0</td>\n",
       "      <td>Adult</td>\n",
       "    </tr>\n",
       "    <tr>\n",
       "      <th>697</th>\n",
       "      <td>32178193.0</td>\n",
       "      <td>86491727.0</td>\n",
       "      <td>Driver error</td>\n",
       "      <td>2018-10-30</td>\n",
       "      <td>Home</td>\n",
       "      <td>Unknown</td>\n",
       "      <td>Material only</td>\n",
       "      <td>1860.0</td>\n",
       "      <td>1.0</td>\n",
       "      <td>No</td>\n",
       "      <td>Female</td>\n",
       "      <td>1997-01-29</td>\n",
       "      <td>IL</td>\n",
       "      <td>294-187-3286</td>\n",
       "      <td>Gold</td>\n",
       "      <td>0</td>\n",
       "      <td>26.0</td>\n",
       "      <td>Youth</td>\n",
       "    </tr>\n",
       "    <tr>\n",
       "      <th>354</th>\n",
       "      <td>98795403.0</td>\n",
       "      <td>38011078.0</td>\n",
       "      <td>Crime</td>\n",
       "      <td>2018-10-30</td>\n",
       "      <td>Auto</td>\n",
       "      <td>Unknown</td>\n",
       "      <td>Material only</td>\n",
       "      <td>1940.0</td>\n",
       "      <td>1.0</td>\n",
       "      <td>No</td>\n",
       "      <td>Female</td>\n",
       "      <td>1976-05-20</td>\n",
       "      <td>NE</td>\n",
       "      <td>271-123-1475</td>\n",
       "      <td>Gold</td>\n",
       "      <td>0</td>\n",
       "      <td>46.0</td>\n",
       "      <td>Adult</td>\n",
       "    </tr>\n",
       "    <tr>\n",
       "      <th>1077</th>\n",
       "      <td>91386759.0</td>\n",
       "      <td>65208809.0</td>\n",
       "      <td>Natural causes</td>\n",
       "      <td>2018-10-30</td>\n",
       "      <td>Auto</td>\n",
       "      <td>No</td>\n",
       "      <td>Material only</td>\n",
       "      <td>2290.0</td>\n",
       "      <td>1.0</td>\n",
       "      <td>No</td>\n",
       "      <td>Male</td>\n",
       "      <td>1964-04-22</td>\n",
       "      <td>VA</td>\n",
       "      <td>286-128-6132</td>\n",
       "      <td>Platinum</td>\n",
       "      <td>0</td>\n",
       "      <td>58.0</td>\n",
       "      <td>Adult</td>\n",
       "    </tr>\n",
       "  </tbody>\n",
       "</table>\n",
       "</div>"
      ],
      "text/plain": [
       "        claim_id  customer_id  incident_cause claim_date claim_area  \\\n",
       "1055  43042986.0   58451506.0  Natural causes 2018-10-30       Auto   \n",
       "286   99775483.0   93915431.0    Other causes 2018-10-30       Auto   \n",
       "697   32178193.0   86491727.0    Driver error 2018-10-30       Home   \n",
       "354   98795403.0   38011078.0           Crime 2018-10-30       Auto   \n",
       "1077  91386759.0   65208809.0  Natural causes 2018-10-30       Auto   \n",
       "\n",
       "     police_report           claim_type  claim_amount  total_policy_claims  \\\n",
       "1055            No        Material only        2420.0                  1.0   \n",
       "286             No  Material and injury       42124.5                  1.0   \n",
       "697        Unknown        Material only        1860.0                  1.0   \n",
       "354        Unknown        Material only        1940.0                  1.0   \n",
       "1077            No        Material only        2290.0                  1.0   \n",
       "\n",
       "     fraudulent  gender DateOfBirth State       Contact   Segment  alert_flag  \\\n",
       "1055         No    Male  1968-04-22    FL  673-574-7823      Gold           0   \n",
       "286         Yes    Male  1967-09-08    ME  134-785-1687      Gold           1   \n",
       "697          No  Female  1997-01-29    IL  294-187-3286      Gold           0   \n",
       "354          No  Female  1976-05-20    NE  271-123-1475      Gold           0   \n",
       "1077         No    Male  1964-04-22    VA  286-128-6132  Platinum           0   \n",
       "\n",
       "       age age_category  \n",
       "1055  54.0        Adult  \n",
       "286   55.0        Adult  \n",
       "697   26.0        Youth  \n",
       "354   46.0        Adult  \n",
       "1077  58.0        Adult  "
      ]
     },
     "execution_count": 70,
     "metadata": {},
     "output_type": "execute_result"
    }
   ],
   "source": [
    "insurance_claim.head()"
   ]
  },
  {
   "cell_type": "markdown",
   "id": "c6696258",
   "metadata": {},
   "source": [
    "## 8. What is the average amount claimed by the customers from various segments?"
   ]
  },
  {
   "cell_type": "code",
   "execution_count": 71,
   "id": "e2ee8f78",
   "metadata": {},
   "outputs": [
    {
     "data": {
      "text/html": [
       "<div>\n",
       "<style scoped>\n",
       "    .dataframe tbody tr th:only-of-type {\n",
       "        vertical-align: middle;\n",
       "    }\n",
       "\n",
       "    .dataframe tbody tr th {\n",
       "        vertical-align: top;\n",
       "    }\n",
       "\n",
       "    .dataframe thead th {\n",
       "        text-align: right;\n",
       "    }\n",
       "</style>\n",
       "<table border=\"1\" class=\"dataframe\">\n",
       "  <thead>\n",
       "    <tr style=\"text-align: right;\">\n",
       "      <th></th>\n",
       "      <th>claim_amount</th>\n",
       "    </tr>\n",
       "    <tr>\n",
       "      <th>Segment</th>\n",
       "      <th></th>\n",
       "    </tr>\n",
       "  </thead>\n",
       "  <tbody>\n",
       "    <tr>\n",
       "      <th>Gold</th>\n",
       "      <td>12760.923744</td>\n",
       "    </tr>\n",
       "    <tr>\n",
       "      <th>Platinum</th>\n",
       "      <td>12370.565077</td>\n",
       "    </tr>\n",
       "    <tr>\n",
       "      <th>Silver</th>\n",
       "      <td>12265.736955</td>\n",
       "    </tr>\n",
       "  </tbody>\n",
       "</table>\n",
       "</div>"
      ],
      "text/plain": [
       "          claim_amount\n",
       "Segment               \n",
       "Gold      12760.923744\n",
       "Platinum  12370.565077\n",
       "Silver    12265.736955"
      ]
     },
     "execution_count": 71,
     "metadata": {},
     "output_type": "execute_result"
    }
   ],
   "source": [
    "insurance_claim.groupby('Segment')[['claim_amount']].mean()"
   ]
  },
  {
   "cell_type": "markdown",
   "id": "145f4290",
   "metadata": {},
   "source": [
    "## 9. What is the total claim amount based on incident cause for all the claims that have been done at least 20 days prior to 1st of October, 2018."
   ]
  },
  {
   "cell_type": "code",
   "execution_count": 29,
   "id": "63d56e54",
   "metadata": {},
   "outputs": [],
   "source": [
    "filtered_claim = insurance_claim[(pd.to_datetime('2018-10-01') - insurance_claim['claim_date']).dt.days >= 20]"
   ]
  },
  {
   "cell_type": "code",
   "execution_count": 30,
   "id": "93c614db",
   "metadata": {},
   "outputs": [
    {
     "data": {
      "text/html": [
       "<div>\n",
       "<style scoped>\n",
       "    .dataframe tbody tr th:only-of-type {\n",
       "        vertical-align: middle;\n",
       "    }\n",
       "\n",
       "    .dataframe tbody tr th {\n",
       "        vertical-align: top;\n",
       "    }\n",
       "\n",
       "    .dataframe thead th {\n",
       "        text-align: right;\n",
       "    }\n",
       "</style>\n",
       "<table border=\"1\" class=\"dataframe\">\n",
       "  <thead>\n",
       "    <tr style=\"text-align: right;\">\n",
       "      <th></th>\n",
       "      <th>claim_amount</th>\n",
       "    </tr>\n",
       "    <tr>\n",
       "      <th>incident_cause</th>\n",
       "      <th></th>\n",
       "    </tr>\n",
       "  </thead>\n",
       "  <tbody>\n",
       "    <tr>\n",
       "      <th>Crime</th>\n",
       "      <td>7.269595e+05</td>\n",
       "    </tr>\n",
       "    <tr>\n",
       "      <th>Driver error</th>\n",
       "      <td>3.344546e+06</td>\n",
       "    </tr>\n",
       "    <tr>\n",
       "      <th>Natural causes</th>\n",
       "      <td>1.315301e+06</td>\n",
       "    </tr>\n",
       "    <tr>\n",
       "      <th>Other causes</th>\n",
       "      <td>3.790499e+06</td>\n",
       "    </tr>\n",
       "    <tr>\n",
       "      <th>Other driver error</th>\n",
       "      <td>3.342803e+06</td>\n",
       "    </tr>\n",
       "  </tbody>\n",
       "</table>\n",
       "</div>"
      ],
      "text/plain": [
       "                    claim_amount\n",
       "incident_cause                  \n",
       "Crime               7.269595e+05\n",
       "Driver error        3.344546e+06\n",
       "Natural causes      1.315301e+06\n",
       "Other causes        3.790499e+06\n",
       "Other driver error  3.342803e+06"
      ]
     },
     "execution_count": 30,
     "metadata": {},
     "output_type": "execute_result"
    }
   ],
   "source": [
    "filtered_claim.groupby(\"incident_cause\")[['claim_amount']].sum()"
   ]
  },
  {
   "cell_type": "markdown",
   "id": "cccae842",
   "metadata": {},
   "source": [
    "## 10. How many adults from TX, DE and AK claimed insurance for driver related issues and causes?"
   ]
  },
  {
   "cell_type": "code",
   "execution_count": 31,
   "id": "f8d3114b",
   "metadata": {},
   "outputs": [
    {
     "data": {
      "text/html": [
       "<div>\n",
       "<style scoped>\n",
       "    .dataframe tbody tr th:only-of-type {\n",
       "        vertical-align: middle;\n",
       "    }\n",
       "\n",
       "    .dataframe tbody tr th {\n",
       "        vertical-align: top;\n",
       "    }\n",
       "\n",
       "    .dataframe thead th {\n",
       "        text-align: right;\n",
       "    }\n",
       "</style>\n",
       "<table border=\"1\" class=\"dataframe\">\n",
       "  <thead>\n",
       "    <tr style=\"text-align: right;\">\n",
       "      <th></th>\n",
       "      <th>age_category</th>\n",
       "    </tr>\n",
       "    <tr>\n",
       "      <th>State</th>\n",
       "      <th></th>\n",
       "    </tr>\n",
       "  </thead>\n",
       "  <tbody>\n",
       "    <tr>\n",
       "      <th>AK</th>\n",
       "      <td>8</td>\n",
       "    </tr>\n",
       "    <tr>\n",
       "      <th>DE</th>\n",
       "      <td>10</td>\n",
       "    </tr>\n",
       "    <tr>\n",
       "      <th>TX</th>\n",
       "      <td>9</td>\n",
       "    </tr>\n",
       "  </tbody>\n",
       "</table>\n",
       "</div>"
      ],
      "text/plain": [
       "       age_category\n",
       "State              \n",
       "AK                8\n",
       "DE               10\n",
       "TX                9"
      ]
     },
     "execution_count": 31,
     "metadata": {},
     "output_type": "execute_result"
    }
   ],
   "source": [
    "insurance_claim.loc[(insurance_claim['age_category'] == 'Adult') & \n",
    "                             (insurance_claim['State'].isin(['TX', 'DE', 'AK'])) &\n",
    "                             (insurance_claim['incident_cause'].str.contains('Driver', case = False))].groupby('State')[['age_category']].count()"
   ]
  },
  {
   "cell_type": "markdown",
   "id": "caf9708f",
   "metadata": {},
   "source": [
    "## 11. Draw a pie chart between the aggregated value of claim amount based on gender and segment. Represent the claim amount as a percentage on the pie chart."
   ]
  },
  {
   "cell_type": "code",
   "execution_count": 32,
   "id": "ae4468d3",
   "metadata": {},
   "outputs": [
    {
     "data": {
      "image/png": "[encoded data removed]",
      "text/plain": [
       "<Figure size 1080x576 with 3 Axes>"
      ]
     },
     "metadata": {},
     "output_type": "display_data"
    }
   ],
   "source": [
    "pivot_table = insurance_claim.pivot_table(index = 'gender', columns = 'Segment', values = 'claim_amount', aggfunc = 'sum')\n",
    "pivot_table.plot(kind = 'pie', subplots = True, figsize = (15,8), autopct = \"%1.1f%%\")\n",
    "plt.show()"
   ]
  },
  {
   "cell_type": "markdown",
   "id": "7e5756dd",
   "metadata": {},
   "source": [
    "## 12. Among males and females, which gender had claimed the most for any type of driver related issues? E.g. This metric can be compared using a bar chart."
   ]
  },
  {
   "cell_type": "code",
   "execution_count": 33,
   "id": "8a66f0de",
   "metadata": {},
   "outputs": [
    {
     "data": {
      "image/png": "[encoded data removed]",
      "text/plain": [
       "<Figure size 432x288 with 1 Axes>"
      ]
     },
     "metadata": {},
     "output_type": "display_data"
    }
   ],
   "source": [
    "insurance_claim.loc[insurance_claim.incident_cause.str.contains(\"driver\", case = False)].groupby(\"gender\")[['claim_amount']].sum().plot(kind = 'bar', color = 'magenta')\n",
    "plt.ylabel(\"claim amount\")\n",
    "plt.show()"
   ]
  },
  {
   "cell_type": "markdown",
   "id": "b8516095",
   "metadata": {},
   "source": [
    "## 13. Which age group had the maximum fraudulent policy claims? Visualize it on a bar chart."
   ]
  },
  {
   "cell_type": "code",
   "execution_count": 34,
   "id": "73c1fc70",
   "metadata": {},
   "outputs": [
    {
     "data": {
      "image/png": "[encoded data removed]",
      "text/plain": [
       "<Figure size 432x288 with 1 Axes>"
      ]
     },
     "metadata": {},
     "output_type": "display_data"
    }
   ],
   "source": [
    "insurance_claim.loc[insurance_claim.fraudulent == 'Yes'].groupby(\"age_category\")[['fraudulent']].count().plot(kind = 'bar', color = 'blue')\n",
    "plt.show()"
   ]
  },
  {
   "cell_type": "markdown",
   "id": "db4fe3c0",
   "metadata": {},
   "source": [
    "## 14. Visualize the monthly trend of the total amount that has been claimed by the customers. Ensure that on the “month” axis, the month is in a chronological order not alphabetical order."
   ]
  },
  {
   "cell_type": "code",
   "execution_count": 35,
   "id": "7b9e8546",
   "metadata": {},
   "outputs": [
    {
     "data": {
      "image/png": "[encoded data removed]",
      "text/plain": [
       "<Figure size 1152x576 with 1 Axes>"
      ]
     },
     "metadata": {},
     "output_type": "display_data"
    }
   ],
   "source": [
    "insurance_claim['month'] = insurance_claim['claim_date'].dt.month\n",
    "\n",
    "# Group the data by month and calculate the sum of claim_amount\n",
    "monthly_claim_amount = insurance_claim.groupby('month')['claim_amount'].sum()\n",
    "\n",
    "# Sort the data by month in chronological order\n",
    "monthly_claim_amount = monthly_claim_amount.sort_index()\n",
    "import calendar\n",
    "month_names = [calendar.month_name[i] for i in range(1, 13)]\n",
    "# line plot using the monthly_claim_amount data\n",
    "plt.figure(figsize = (16,8))\n",
    "plt.plot(monthly_claim_amount.index, monthly_claim_amount.values)\n",
    "plt.xlabel('Month')\n",
    "plt.ylabel('Total Claim Amount')\n",
    "plt.title('Monthly Trend of Total Claim Amount')\n",
    "plt.xticks(range(1, 13), month_names)\n",
    "plt.show()"
   ]
  },
  {
   "cell_type": "markdown",
   "id": "c13e739c",
   "metadata": {},
   "source": [
    "## 15. What is the average claim amount for gender and age categories and suitably represent the above using a facetted bar chart, one facet that represents fraudulent claims and the other for non-fraudulent claims."
   ]
  },
  {
   "cell_type": "code",
   "execution_count": 37,
   "id": "c77d26e0",
   "metadata": {},
   "outputs": [
    {
     "data": {
      "image/png": "[encoded data removed]",
      "text/plain": [
       "<Figure size 479.55x288 with 2 Axes>"
      ]
     },
     "metadata": {},
     "output_type": "display_data"
    }
   ],
   "source": [
    "avg_claim_amount = insurance_claim.groupby(['gender', 'age_category', 'fraudulent'])['claim_amount'].mean().reset_index()\n",
    "\n",
    "# Create a facetted bar chart\n",
    "g = sns.catplot(x='age_category', y='claim_amount', hue = 'gender', col = 'fraudulent', data = avg_claim_amount, kind = 'bar', height = 4, aspect = .7)\n",
    "g.set_axis_labels('Age Category', 'Average Claim Amount')\n",
    "plt.show()"
   ]
  },
  {
   "cell_type": "markdown",
   "id": "4aeb418a",
   "metadata": {},
   "source": [
    "### Based on the conclusions from exploratory analysis as well as suitable statistical tests, answer the below questions. Please include a detailed write-up on the parameters taken into consideration, the Hypothesis testing steps, conclusion from the p-values and the business implications of the statements."
   ]
  },
  {
   "cell_type": "markdown",
   "id": "f93f60a5",
   "metadata": {},
   "source": [
    "## 16. Is there any similarity in the amount claimed by males and females?"
   ]
  },
  {
   "cell_type": "code",
   "execution_count": 38,
   "id": "2c2e1a4f",
   "metadata": {},
   "outputs": [],
   "source": [
    "## To test whether there is any similarity in the amount claimed by males and females, we can use a two-sample t-test.\n",
    "\n",
    "## Step 1: Defining the null and alternate hypothesis - \n",
    "\n",
    "## H0: There is no difference in the mean amount claimed by males and females.\n",
    "## Ha: There is a difference in the mean amount claimed by males and females.\n",
    "\n",
    "## Step 2: set the level of significance - \n",
    "## CI = 95%\n",
    "## alpha - 0.05\n"
   ]
  },
  {
   "cell_type": "code",
   "execution_count": 39,
   "id": "5c2c87da",
   "metadata": {},
   "outputs": [
    {
     "data": {
      "image/png": "[encoded data removed]",
      "text/plain": [
       "<Figure size 432x288 with 1 Axes>"
      ]
     },
     "metadata": {},
     "output_type": "display_data"
    }
   ],
   "source": [
    "sns.boxplot(x = insurance_claim.gender, y = insurance_claim.claim_amount )\n",
    "plt.show()"
   ]
  },
  {
   "cell_type": "code",
   "execution_count": 40,
   "id": "183ae355",
   "metadata": {},
   "outputs": [],
   "source": [
    "## Step 3: conduct the two sample t-test:\n",
    "import scipy.stats as stats\n",
    "male_claim = insurance_claim[insurance_claim['gender'] == 'Male']['claim_amount']\n",
    "female_claim = insurance_claim[insurance_claim['gender'] == 'Female']['claim_amount']"
   ]
  },
  {
   "cell_type": "code",
   "execution_count": 41,
   "id": "d6824b4d",
   "metadata": {},
   "outputs": [
    {
     "data": {
      "text/plain": [
       "Ttest_indResult(statistic=0.897717439924586, pvalue=0.3695340884125583)"
      ]
     },
     "execution_count": 41,
     "metadata": {},
     "output_type": "execute_result"
    }
   ],
   "source": [
    "stats.ttest_ind(male_claim, female_claim)"
   ]
  },
  {
   "cell_type": "code",
   "execution_count": 42,
   "id": "b0fb6801",
   "metadata": {},
   "outputs": [
    {
     "data": {
      "text/plain": [
       "F_onewayResult(statistic=0.8058966019447521, pvalue=0.3695340884120908)"
      ]
     },
     "execution_count": 42,
     "metadata": {},
     "output_type": "execute_result"
    }
   ],
   "source": [
    "## we can also perform ANOVA :\n",
    "\n",
    "stats.f_oneway(male_claim, female_claim)"
   ]
  },
  {
   "cell_type": "markdown",
   "id": "dad7f0f6",
   "metadata": {},
   "source": [
    "#### Step 4: conclusion - \n",
    "#### The p-value obtained from the test is greater than the level of significance (alpha=0.05), which suggests that we fail to reject the null hypothesis. Therefore, we can conclude that there is not enough evidence to suggest a difference in the mean amount claimed by males and females.\n",
    "#### From a business perspective, this result may suggest that gender is not a significant factor in determining the amount claimed by customers. However, it is important to note that there may be other factors that can influence the amount claimed, such as age, occupation, etc. Further analysis may be required to understand the impact of these factors on the amount claimed."
   ]
  },
  {
   "cell_type": "markdown",
   "id": "a0ca199f",
   "metadata": {},
   "source": [
    "## 17. Is there any relationship between age category and segment?"
   ]
  },
  {
   "cell_type": "code",
   "execution_count": 43,
   "id": "0c984c41",
   "metadata": {},
   "outputs": [],
   "source": [
    "## To test if there is any relationship between age category and segment, we can use a chi-square test of independence.\n",
    "\n",
    "## Step 1: Defining the null and alternate hypothesis - \n",
    "\n",
    "## H0: there is no relationship between age category and segment.\n",
    "## Ha: there is an relationship between age category and segment.\n",
    "\n",
    "## Step 2: set the level of significance - \n",
    "## CI = 95%\n",
    "## alpha - 0.05"
   ]
  },
  {
   "cell_type": "code",
   "execution_count": 44,
   "id": "90d9b880",
   "metadata": {},
   "outputs": [
    {
     "data": {
      "text/html": [
       "<div>\n",
       "<style scoped>\n",
       "    .dataframe tbody tr th:only-of-type {\n",
       "        vertical-align: middle;\n",
       "    }\n",
       "\n",
       "    .dataframe tbody tr th {\n",
       "        vertical-align: top;\n",
       "    }\n",
       "\n",
       "    .dataframe thead th {\n",
       "        text-align: right;\n",
       "    }\n",
       "</style>\n",
       "<table border=\"1\" class=\"dataframe\">\n",
       "  <thead>\n",
       "    <tr style=\"text-align: right;\">\n",
       "      <th>age_category</th>\n",
       "      <th>Youth</th>\n",
       "      <th>Adult</th>\n",
       "      <th>Senior</th>\n",
       "    </tr>\n",
       "    <tr>\n",
       "      <th>Segment</th>\n",
       "      <th></th>\n",
       "      <th></th>\n",
       "      <th></th>\n",
       "    </tr>\n",
       "  </thead>\n",
       "  <tbody>\n",
       "    <tr>\n",
       "      <th>Gold</th>\n",
       "      <td>73</td>\n",
       "      <td>281</td>\n",
       "      <td>33</td>\n",
       "    </tr>\n",
       "    <tr>\n",
       "      <th>Platinum</th>\n",
       "      <td>74</td>\n",
       "      <td>268</td>\n",
       "      <td>19</td>\n",
       "    </tr>\n",
       "    <tr>\n",
       "      <th>Silver</th>\n",
       "      <td>77</td>\n",
       "      <td>251</td>\n",
       "      <td>18</td>\n",
       "    </tr>\n",
       "  </tbody>\n",
       "</table>\n",
       "</div>"
      ],
      "text/plain": [
       "age_category  Youth  Adult  Senior\n",
       "Segment                           \n",
       "Gold             73    281      33\n",
       "Platinum         74    268      19\n",
       "Silver           77    251      18"
      ]
     },
     "execution_count": 44,
     "metadata": {},
     "output_type": "execute_result"
    }
   ],
   "source": [
    "## Step 3: Create a contingency table of observed frequencies of age category and segment.\n",
    "\n",
    "observed_freq = pd.crosstab(index = insurance_claim.Segment, columns = insurance_claim.age_category)\n",
    "observed_freq"
   ]
  },
  {
   "cell_type": "code",
   "execution_count": 45,
   "id": "1f8f0614",
   "metadata": {},
   "outputs": [
    {
     "data": {
      "text/plain": [
       "(5.358947072709569,\n",
       " 0.25240916055320506,\n",
       " 4,\n",
       " array([[ 79.23948812, 282.99817185,  24.76234004],\n",
       "        [ 73.91590494, 263.98537477,  23.09872029],\n",
       "        [ 70.84460695, 253.01645338,  22.13893967]]))"
      ]
     },
     "execution_count": 45,
     "metadata": {},
     "output_type": "execute_result"
    }
   ],
   "source": [
    "## Step 4: perform the chi-square test:\n",
    "stats.chi2_contingency(observed_freq)"
   ]
  },
  {
   "cell_type": "markdown",
   "id": "911a4fd0",
   "metadata": {},
   "source": [
    "##### The result of the chi-square test includes three values: the chi-square statistic, the p-value, and the degrees of freedom, as well as the expected frequency counts.\n",
    "\n",
    "#### In the given result, the chi-square statistic value is 5.3589, which indicates the strength of the relationship between the age category and segment. The p-value is 0.2524, which is greater than the standard significance level of 0.05, suggesting that we fail to reject the null hypothesis, and there is no significant relationship between the age category and segment. The degrees of freedom are 4, and the expected frequency counts are given in the array.\n",
    "\n",
    "##### In summary, the chi-square test suggests that there is no significant relationship between age category and segment. Therefore, we can conclude that there is no evidence to suggest that age category influences the choice of segment for insurance claims."
   ]
  },
  {
   "cell_type": "markdown",
   "id": "12de0379",
   "metadata": {},
   "source": [
    "### 18. The current year has shown a significant rise in claim amounts as compared to 2016-17 fiscal average which was $10,000."
   ]
  },
  {
   "cell_type": "code",
   "execution_count": 46,
   "id": "4d430293",
   "metadata": {},
   "outputs": [
    {
     "data": {
      "text/plain": [
       "array([2018, 2017], dtype=int64)"
      ]
     },
     "execution_count": 46,
     "metadata": {},
     "output_type": "execute_result"
    }
   ],
   "source": [
    "insurance_claim.claim_date.dt.year.unique()"
   ]
  },
  {
   "cell_type": "code",
   "execution_count": 47,
   "id": "78fa5d91",
   "metadata": {},
   "outputs": [
    {
     "data": {
      "text/html": [
       "<div>\n",
       "<style scoped>\n",
       "    .dataframe tbody tr th:only-of-type {\n",
       "        vertical-align: middle;\n",
       "    }\n",
       "\n",
       "    .dataframe tbody tr th {\n",
       "        vertical-align: top;\n",
       "    }\n",
       "\n",
       "    .dataframe thead th {\n",
       "        text-align: right;\n",
       "    }\n",
       "</style>\n",
       "<table border=\"1\" class=\"dataframe\">\n",
       "  <thead>\n",
       "    <tr style=\"text-align: right;\">\n",
       "      <th></th>\n",
       "      <th>claim_id</th>\n",
       "      <th>customer_id</th>\n",
       "      <th>incident_cause</th>\n",
       "      <th>claim_date</th>\n",
       "      <th>claim_area</th>\n",
       "      <th>police_report</th>\n",
       "      <th>claim_type</th>\n",
       "      <th>claim_amount</th>\n",
       "      <th>total_policy_claims</th>\n",
       "      <th>fraudulent</th>\n",
       "      <th>gender</th>\n",
       "      <th>DateOfBirth</th>\n",
       "      <th>State</th>\n",
       "      <th>Contact</th>\n",
       "      <th>Segment</th>\n",
       "      <th>alert_flag</th>\n",
       "      <th>age</th>\n",
       "      <th>age_category</th>\n",
       "      <th>month</th>\n",
       "    </tr>\n",
       "  </thead>\n",
       "  <tbody>\n",
       "    <tr>\n",
       "      <th>1055</th>\n",
       "      <td>43042986.0</td>\n",
       "      <td>58451506.0</td>\n",
       "      <td>Natural causes</td>\n",
       "      <td>2018-10-30</td>\n",
       "      <td>Auto</td>\n",
       "      <td>No</td>\n",
       "      <td>Material only</td>\n",
       "      <td>2420.0</td>\n",
       "      <td>1.0</td>\n",
       "      <td>No</td>\n",
       "      <td>Male</td>\n",
       "      <td>1968-04-22</td>\n",
       "      <td>FL</td>\n",
       "      <td>673-574-7823</td>\n",
       "      <td>Gold</td>\n",
       "      <td>0</td>\n",
       "      <td>54.0</td>\n",
       "      <td>Adult</td>\n",
       "      <td>10</td>\n",
       "    </tr>\n",
       "    <tr>\n",
       "      <th>286</th>\n",
       "      <td>99775483.0</td>\n",
       "      <td>93915431.0</td>\n",
       "      <td>Other causes</td>\n",
       "      <td>2018-10-30</td>\n",
       "      <td>Auto</td>\n",
       "      <td>No</td>\n",
       "      <td>Material and injury</td>\n",
       "      <td>42124.5</td>\n",
       "      <td>1.0</td>\n",
       "      <td>Yes</td>\n",
       "      <td>Male</td>\n",
       "      <td>1967-09-08</td>\n",
       "      <td>ME</td>\n",
       "      <td>134-785-1687</td>\n",
       "      <td>Gold</td>\n",
       "      <td>1</td>\n",
       "      <td>55.0</td>\n",
       "      <td>Adult</td>\n",
       "      <td>10</td>\n",
       "    </tr>\n",
       "    <tr>\n",
       "      <th>697</th>\n",
       "      <td>32178193.0</td>\n",
       "      <td>86491727.0</td>\n",
       "      <td>Driver error</td>\n",
       "      <td>2018-10-30</td>\n",
       "      <td>Home</td>\n",
       "      <td>Unknown</td>\n",
       "      <td>Material only</td>\n",
       "      <td>1860.0</td>\n",
       "      <td>1.0</td>\n",
       "      <td>No</td>\n",
       "      <td>Female</td>\n",
       "      <td>1997-01-29</td>\n",
       "      <td>IL</td>\n",
       "      <td>294-187-3286</td>\n",
       "      <td>Gold</td>\n",
       "      <td>0</td>\n",
       "      <td>26.0</td>\n",
       "      <td>Youth</td>\n",
       "      <td>10</td>\n",
       "    </tr>\n",
       "    <tr>\n",
       "      <th>354</th>\n",
       "      <td>98795403.0</td>\n",
       "      <td>38011078.0</td>\n",
       "      <td>Crime</td>\n",
       "      <td>2018-10-30</td>\n",
       "      <td>Auto</td>\n",
       "      <td>Unknown</td>\n",
       "      <td>Material only</td>\n",
       "      <td>1940.0</td>\n",
       "      <td>1.0</td>\n",
       "      <td>No</td>\n",
       "      <td>Female</td>\n",
       "      <td>1976-05-20</td>\n",
       "      <td>NE</td>\n",
       "      <td>271-123-1475</td>\n",
       "      <td>Gold</td>\n",
       "      <td>0</td>\n",
       "      <td>46.0</td>\n",
       "      <td>Adult</td>\n",
       "      <td>10</td>\n",
       "    </tr>\n",
       "    <tr>\n",
       "      <th>1077</th>\n",
       "      <td>91386759.0</td>\n",
       "      <td>65208809.0</td>\n",
       "      <td>Natural causes</td>\n",
       "      <td>2018-10-30</td>\n",
       "      <td>Auto</td>\n",
       "      <td>No</td>\n",
       "      <td>Material only</td>\n",
       "      <td>2290.0</td>\n",
       "      <td>1.0</td>\n",
       "      <td>No</td>\n",
       "      <td>Male</td>\n",
       "      <td>1964-04-22</td>\n",
       "      <td>VA</td>\n",
       "      <td>286-128-6132</td>\n",
       "      <td>Platinum</td>\n",
       "      <td>0</td>\n",
       "      <td>58.0</td>\n",
       "      <td>Adult</td>\n",
       "      <td>10</td>\n",
       "    </tr>\n",
       "  </tbody>\n",
       "</table>\n",
       "</div>"
      ],
      "text/plain": [
       "        claim_id  customer_id  incident_cause claim_date claim_area  \\\n",
       "1055  43042986.0   58451506.0  Natural causes 2018-10-30       Auto   \n",
       "286   99775483.0   93915431.0    Other causes 2018-10-30       Auto   \n",
       "697   32178193.0   86491727.0    Driver error 2018-10-30       Home   \n",
       "354   98795403.0   38011078.0           Crime 2018-10-30       Auto   \n",
       "1077  91386759.0   65208809.0  Natural causes 2018-10-30       Auto   \n",
       "\n",
       "     police_report           claim_type  claim_amount  total_policy_claims  \\\n",
       "1055            No        Material only        2420.0                  1.0   \n",
       "286             No  Material and injury       42124.5                  1.0   \n",
       "697        Unknown        Material only        1860.0                  1.0   \n",
       "354        Unknown        Material only        1940.0                  1.0   \n",
       "1077            No        Material only        2290.0                  1.0   \n",
       "\n",
       "     fraudulent  gender DateOfBirth State       Contact   Segment  alert_flag  \\\n",
       "1055         No    Male  1968-04-22    FL  673-574-7823      Gold           0   \n",
       "286         Yes    Male  1967-09-08    ME  134-785-1687      Gold           1   \n",
       "697          No  Female  1997-01-29    IL  294-187-3286      Gold           0   \n",
       "354          No  Female  1976-05-20    NE  271-123-1475      Gold           0   \n",
       "1077         No    Male  1964-04-22    VA  286-128-6132  Platinum           0   \n",
       "\n",
       "       age age_category  month  \n",
       "1055  54.0        Adult     10  \n",
       "286   55.0        Adult     10  \n",
       "697   26.0        Youth     10  \n",
       "354   46.0        Adult     10  \n",
       "1077  58.0        Adult     10  "
      ]
     },
     "execution_count": 47,
     "metadata": {},
     "output_type": "execute_result"
    }
   ],
   "source": [
    "insurance_claim.head()"
   ]
  },
  {
   "cell_type": "code",
   "execution_count": 192,
   "id": "0a96f9d1",
   "metadata": {},
   "outputs": [
    {
     "data": {
      "text/html": [
       "<div>\n",
       "<style scoped>\n",
       "    .dataframe tbody tr th:only-of-type {\n",
       "        vertical-align: middle;\n",
       "    }\n",
       "\n",
       "    .dataframe tbody tr th {\n",
       "        vertical-align: top;\n",
       "    }\n",
       "\n",
       "    .dataframe thead th {\n",
       "        text-align: right;\n",
       "    }\n",
       "</style>\n",
       "<table border=\"1\" class=\"dataframe\">\n",
       "  <thead>\n",
       "    <tr style=\"text-align: right;\">\n",
       "      <th></th>\n",
       "      <th>claim_id</th>\n",
       "      <th>customer_id</th>\n",
       "      <th>incident_cause</th>\n",
       "      <th>claim_date</th>\n",
       "      <th>claim_area</th>\n",
       "      <th>police_report</th>\n",
       "      <th>claim_type</th>\n",
       "      <th>claim_amount</th>\n",
       "      <th>total_policy_claims</th>\n",
       "      <th>fraudulent</th>\n",
       "      <th>gender</th>\n",
       "      <th>DateOfBirth</th>\n",
       "      <th>State</th>\n",
       "      <th>Contact</th>\n",
       "      <th>Segment</th>\n",
       "      <th>alert_flag</th>\n",
       "      <th>age</th>\n",
       "      <th>age_category</th>\n",
       "      <th>month</th>\n",
       "    </tr>\n",
       "  </thead>\n",
       "  <tbody>\n",
       "    <tr>\n",
       "      <th>937</th>\n",
       "      <td>7299594.0</td>\n",
       "      <td>74633480.0</td>\n",
       "      <td>Other causes</td>\n",
       "      <td>2017-12-30</td>\n",
       "      <td>Auto</td>\n",
       "      <td>Yes</td>\n",
       "      <td>Material only</td>\n",
       "      <td>2790.0</td>\n",
       "      <td>3.0</td>\n",
       "      <td>No</td>\n",
       "      <td>Male</td>\n",
       "      <td>1966-06-22</td>\n",
       "      <td>MI</td>\n",
       "      <td>598-245-7941</td>\n",
       "      <td>Gold</td>\n",
       "      <td>0</td>\n",
       "      <td>56.0</td>\n",
       "      <td>Adult</td>\n",
       "      <td>12</td>\n",
       "    </tr>\n",
       "    <tr>\n",
       "      <th>753</th>\n",
       "      <td>63268924.0</td>\n",
       "      <td>5864769.0</td>\n",
       "      <td>Crime</td>\n",
       "      <td>2017-12-30</td>\n",
       "      <td>Auto</td>\n",
       "      <td>Yes</td>\n",
       "      <td>Injury only</td>\n",
       "      <td>34460.0</td>\n",
       "      <td>1.0</td>\n",
       "      <td>No</td>\n",
       "      <td>Male</td>\n",
       "      <td>1982-11-17</td>\n",
       "      <td>CO</td>\n",
       "      <td>314-953-3162</td>\n",
       "      <td>Gold</td>\n",
       "      <td>0</td>\n",
       "      <td>40.0</td>\n",
       "      <td>Adult</td>\n",
       "      <td>12</td>\n",
       "    </tr>\n",
       "    <tr>\n",
       "      <th>343</th>\n",
       "      <td>49550521.0</td>\n",
       "      <td>81131066.0</td>\n",
       "      <td>Other causes</td>\n",
       "      <td>2017-12-30</td>\n",
       "      <td>Auto</td>\n",
       "      <td>No</td>\n",
       "      <td>Material only</td>\n",
       "      <td>1920.0</td>\n",
       "      <td>2.0</td>\n",
       "      <td>No</td>\n",
       "      <td>Male</td>\n",
       "      <td>1968-11-01</td>\n",
       "      <td>AL</td>\n",
       "      <td>579-265-6183</td>\n",
       "      <td>Gold</td>\n",
       "      <td>0</td>\n",
       "      <td>54.0</td>\n",
       "      <td>Adult</td>\n",
       "      <td>12</td>\n",
       "    </tr>\n",
       "    <tr>\n",
       "      <th>1021</th>\n",
       "      <td>26058387.0</td>\n",
       "      <td>23445933.0</td>\n",
       "      <td>Crime</td>\n",
       "      <td>2017-12-30</td>\n",
       "      <td>Auto</td>\n",
       "      <td>No</td>\n",
       "      <td>Material only</td>\n",
       "      <td>1670.0</td>\n",
       "      <td>2.0</td>\n",
       "      <td>No</td>\n",
       "      <td>Female</td>\n",
       "      <td>1966-01-01</td>\n",
       "      <td>MS</td>\n",
       "      <td>657-568-6495</td>\n",
       "      <td>Platinum</td>\n",
       "      <td>0</td>\n",
       "      <td>57.0</td>\n",
       "      <td>Adult</td>\n",
       "      <td>12</td>\n",
       "    </tr>\n",
       "    <tr>\n",
       "      <th>525</th>\n",
       "      <td>42019165.0</td>\n",
       "      <td>42014103.0</td>\n",
       "      <td>Driver error</td>\n",
       "      <td>2017-12-30</td>\n",
       "      <td>Home</td>\n",
       "      <td>No</td>\n",
       "      <td>Material only</td>\n",
       "      <td>2288.5</td>\n",
       "      <td>4.0</td>\n",
       "      <td>Yes</td>\n",
       "      <td>Male</td>\n",
       "      <td>1999-02-06</td>\n",
       "      <td>MS</td>\n",
       "      <td>561-657-4953</td>\n",
       "      <td>Gold</td>\n",
       "      <td>0</td>\n",
       "      <td>24.0</td>\n",
       "      <td>Youth</td>\n",
       "      <td>12</td>\n",
       "    </tr>\n",
       "    <tr>\n",
       "      <th>...</th>\n",
       "      <td>...</td>\n",
       "      <td>...</td>\n",
       "      <td>...</td>\n",
       "      <td>...</td>\n",
       "      <td>...</td>\n",
       "      <td>...</td>\n",
       "      <td>...</td>\n",
       "      <td>...</td>\n",
       "      <td>...</td>\n",
       "      <td>...</td>\n",
       "      <td>...</td>\n",
       "      <td>...</td>\n",
       "      <td>...</td>\n",
       "      <td>...</td>\n",
       "      <td>...</td>\n",
       "      <td>...</td>\n",
       "      <td>...</td>\n",
       "      <td>...</td>\n",
       "      <td>...</td>\n",
       "    </tr>\n",
       "    <tr>\n",
       "      <th>120</th>\n",
       "      <td>39131766.0</td>\n",
       "      <td>39587790.0</td>\n",
       "      <td>Other causes</td>\n",
       "      <td>2017-01-01</td>\n",
       "      <td>Auto</td>\n",
       "      <td>No</td>\n",
       "      <td>Material only</td>\n",
       "      <td>2967.0</td>\n",
       "      <td>1.0</td>\n",
       "      <td>Yes</td>\n",
       "      <td>Male</td>\n",
       "      <td>1965-01-10</td>\n",
       "      <td>LA</td>\n",
       "      <td>615-154-3516</td>\n",
       "      <td>Gold</td>\n",
       "      <td>0</td>\n",
       "      <td>58.0</td>\n",
       "      <td>Adult</td>\n",
       "      <td>1</td>\n",
       "    </tr>\n",
       "    <tr>\n",
       "      <th>383</th>\n",
       "      <td>36457152.0</td>\n",
       "      <td>25634799.0</td>\n",
       "      <td>Driver error</td>\n",
       "      <td>2017-01-01</td>\n",
       "      <td>Auto</td>\n",
       "      <td>No</td>\n",
       "      <td>Material only</td>\n",
       "      <td>2900.0</td>\n",
       "      <td>2.0</td>\n",
       "      <td>No</td>\n",
       "      <td>Female</td>\n",
       "      <td>1974-11-04</td>\n",
       "      <td>KS</td>\n",
       "      <td>724-781-3692</td>\n",
       "      <td>Platinum</td>\n",
       "      <td>0</td>\n",
       "      <td>48.0</td>\n",
       "      <td>Adult</td>\n",
       "      <td>1</td>\n",
       "    </tr>\n",
       "    <tr>\n",
       "      <th>581</th>\n",
       "      <td>97666948.0</td>\n",
       "      <td>97514724.0</td>\n",
       "      <td>Driver error</td>\n",
       "      <td>2017-01-01</td>\n",
       "      <td>Home</td>\n",
       "      <td>No</td>\n",
       "      <td>Injury only</td>\n",
       "      <td>19120.0</td>\n",
       "      <td>1.0</td>\n",
       "      <td>No</td>\n",
       "      <td>Male</td>\n",
       "      <td>1969-06-08</td>\n",
       "      <td>FL</td>\n",
       "      <td>641-684-7986</td>\n",
       "      <td>Platinum</td>\n",
       "      <td>1</td>\n",
       "      <td>53.0</td>\n",
       "      <td>Adult</td>\n",
       "      <td>1</td>\n",
       "    </tr>\n",
       "    <tr>\n",
       "      <th>231</th>\n",
       "      <td>61374372.0</td>\n",
       "      <td>77219712.0</td>\n",
       "      <td>Other causes</td>\n",
       "      <td>2017-01-01</td>\n",
       "      <td>Auto</td>\n",
       "      <td>No</td>\n",
       "      <td>Material and injury</td>\n",
       "      <td>20200.0</td>\n",
       "      <td>1.0</td>\n",
       "      <td>No</td>\n",
       "      <td>Female</td>\n",
       "      <td>1999-08-05</td>\n",
       "      <td>NH</td>\n",
       "      <td>649-592-8793</td>\n",
       "      <td>Platinum</td>\n",
       "      <td>1</td>\n",
       "      <td>23.0</td>\n",
       "      <td>Youth</td>\n",
       "      <td>1</td>\n",
       "    </tr>\n",
       "    <tr>\n",
       "      <th>905</th>\n",
       "      <td>42280334.0</td>\n",
       "      <td>42664554.0</td>\n",
       "      <td>Other causes</td>\n",
       "      <td>2017-01-01</td>\n",
       "      <td>Auto</td>\n",
       "      <td>No</td>\n",
       "      <td>Injury only</td>\n",
       "      <td>27670.0</td>\n",
       "      <td>1.0</td>\n",
       "      <td>No</td>\n",
       "      <td>Female</td>\n",
       "      <td>1993-08-13</td>\n",
       "      <td>TN</td>\n",
       "      <td>396-973-2531</td>\n",
       "      <td>Gold</td>\n",
       "      <td>1</td>\n",
       "      <td>29.0</td>\n",
       "      <td>Youth</td>\n",
       "      <td>1</td>\n",
       "    </tr>\n",
       "  </tbody>\n",
       "</table>\n",
       "<p>601 rows × 19 columns</p>\n",
       "</div>"
      ],
      "text/plain": [
       "        claim_id  customer_id incident_cause claim_date claim_area  \\\n",
       "937    7299594.0   74633480.0   Other causes 2017-12-30       Auto   \n",
       "753   63268924.0    5864769.0          Crime 2017-12-30       Auto   \n",
       "343   49550521.0   81131066.0   Other causes 2017-12-30       Auto   \n",
       "1021  26058387.0   23445933.0          Crime 2017-12-30       Auto   \n",
       "525   42019165.0   42014103.0   Driver error 2017-12-30       Home   \n",
       "...          ...          ...            ...        ...        ...   \n",
       "120   39131766.0   39587790.0   Other causes 2017-01-01       Auto   \n",
       "383   36457152.0   25634799.0   Driver error 2017-01-01       Auto   \n",
       "581   97666948.0   97514724.0   Driver error 2017-01-01       Home   \n",
       "231   61374372.0   77219712.0   Other causes 2017-01-01       Auto   \n",
       "905   42280334.0   42664554.0   Other causes 2017-01-01       Auto   \n",
       "\n",
       "     police_report           claim_type  claim_amount  total_policy_claims  \\\n",
       "937            Yes        Material only        2790.0                  3.0   \n",
       "753            Yes          Injury only       34460.0                  1.0   \n",
       "343             No        Material only        1920.0                  2.0   \n",
       "1021            No        Material only        1670.0                  2.0   \n",
       "525             No        Material only        2288.5                  4.0   \n",
       "...            ...                  ...           ...                  ...   \n",
       "120             No        Material only        2967.0                  1.0   \n",
       "383             No        Material only        2900.0                  2.0   \n",
       "581             No          Injury only       19120.0                  1.0   \n",
       "231             No  Material and injury       20200.0                  1.0   \n",
       "905             No          Injury only       27670.0                  1.0   \n",
       "\n",
       "     fraudulent  gender DateOfBirth State       Contact   Segment  alert_flag  \\\n",
       "937          No    Male  1966-06-22    MI  598-245-7941      Gold           0   \n",
       "753          No    Male  1982-11-17    CO  314-953-3162      Gold           0   \n",
       "343          No    Male  1968-11-01    AL  579-265-6183      Gold           0   \n",
       "1021         No  Female  1966-01-01    MS  657-568-6495  Platinum           0   \n",
       "525         Yes    Male  1999-02-06    MS  561-657-4953      Gold           0   \n",
       "...         ...     ...         ...   ...           ...       ...         ...   \n",
       "120         Yes    Male  1965-01-10    LA  615-154-3516      Gold           0   \n",
       "383          No  Female  1974-11-04    KS  724-781-3692  Platinum           0   \n",
       "581          No    Male  1969-06-08    FL  641-684-7986  Platinum           1   \n",
       "231          No  Female  1999-08-05    NH  649-592-8793  Platinum           1   \n",
       "905          No  Female  1993-08-13    TN  396-973-2531      Gold           1   \n",
       "\n",
       "       age age_category  month  \n",
       "937   56.0        Adult     12  \n",
       "753   40.0        Adult     12  \n",
       "343   54.0        Adult     12  \n",
       "1021  57.0        Adult     12  \n",
       "525   24.0        Youth     12  \n",
       "...    ...          ...    ...  \n",
       "120   58.0        Adult      1  \n",
       "383   48.0        Adult      1  \n",
       "581   53.0        Adult      1  \n",
       "231   23.0        Youth      1  \n",
       "905   29.0        Youth      1  \n",
       "\n",
       "[601 rows x 19 columns]"
      ]
     },
     "execution_count": 192,
     "metadata": {},
     "output_type": "execute_result"
    }
   ],
   "source": [
    "insurance_claim.loc[insurance_claim.claim_date.dt.year == 2017]"
   ]
  },
  {
   "cell_type": "code",
   "execution_count": 48,
   "id": "811447ba",
   "metadata": {},
   "outputs": [],
   "source": [
    "## we need to perform t-test to check this hypothesis.\n",
    "## H0: The current year's claim amount is not significantly different from the 2016-17 fiscal average of $10,000.\n",
    "## Ha: The current year's claim amount is significantly different from the 2016-17 fiscal average of $10,000.\n",
    "## CI = 95%\n",
    "## p-value = 0.05"
   ]
  },
  {
   "cell_type": "code",
   "execution_count": 58,
   "id": "ef705822",
   "metadata": {},
   "outputs": [
    {
     "data": {
      "text/plain": [
       "12308.585665427918"
      ]
     },
     "execution_count": 58,
     "metadata": {},
     "output_type": "execute_result"
    }
   ],
   "source": [
    "claim_2017 = insurance_claim.loc[insurance_claim.claim_date.dt.year == 2017, 'claim_amount']\n",
    "claim_2017.mean()"
   ]
  },
  {
   "cell_type": "code",
   "execution_count": 54,
   "id": "539b189a",
   "metadata": {},
   "outputs": [
    {
     "data": {
      "text/plain": [
       "12678.978667295441"
      ]
     },
     "execution_count": 54,
     "metadata": {},
     "output_type": "execute_result"
    }
   ],
   "source": [
    "claim_2018 = insurance_claim.loc[insurance_claim.claim_date.dt.year == 2018, 'claim_amount']\n",
    "claim_2018.mean()"
   ]
  },
  {
   "cell_type": "code",
   "execution_count": 55,
   "id": "ff69e377",
   "metadata": {},
   "outputs": [
    {
     "data": {
      "text/plain": [
       "Ttest_1sampResult(statistic=4.423068885445179, pvalue=1.1988079092168712e-05)"
      ]
     },
     "execution_count": 55,
     "metadata": {},
     "output_type": "execute_result"
    }
   ],
   "source": [
    "stats.ttest_1samp(claim_2018,10000 )"
   ]
  },
  {
   "cell_type": "code",
   "execution_count": 65,
   "id": "8c2f5b15",
   "metadata": {},
   "outputs": [
    {
     "data": {
      "image/png": "[encoded data removed]",
      "text/plain": [
       "<Figure size 432x288 with 1 Axes>"
      ]
     },
     "metadata": {},
     "output_type": "display_data"
    }
   ],
   "source": [
    "sns.boxplot(x = insurance_claim.claim_date.dt.year , y = insurance_claim.claim_amount)\n",
    "plt.show()"
   ]
  },
  {
   "cell_type": "markdown",
   "id": "022f0f6a",
   "metadata": {},
   "source": [
    "### Here the p-value is 1.199e-05 (very small). Therefore, we can reject the null hypothesis that the mean claim amount for the current year is equal to the 2016-17 fiscal average, and conclude that the current year has indeed shown a significant rise in claim amounts."
   ]
  },
  {
   "cell_type": "markdown",
   "id": "83900fdc",
   "metadata": {},
   "source": [
    "## 19. Is there any difference between age groups and insurance claims?"
   ]
  },
  {
   "cell_type": "code",
   "execution_count": 67,
   "id": "799db147",
   "metadata": {},
   "outputs": [
    {
     "data": {
      "text/plain": [
       "Adult       800\n",
       "Youth       224\n",
       "Senior       70\n",
       "Children      0\n",
       "Name: age_category, dtype: int64"
      ]
     },
     "execution_count": 67,
     "metadata": {},
     "output_type": "execute_result"
    }
   ],
   "source": [
    "insurance_claim.age_category.value_counts()"
   ]
  },
  {
   "cell_type": "code",
   "execution_count": 69,
   "id": "50bb5061",
   "metadata": {},
   "outputs": [
    {
     "data": {
      "image/png": "[encoded data removed]",
      "text/plain": [
       "<Figure size 432x288 with 1 Axes>"
      ]
     },
     "metadata": {},
     "output_type": "display_data"
    }
   ],
   "source": [
    "sns.boxplot(x = insurance_claim.age_category, y = insurance_claim.claim_amount)\n",
    "plt.show()"
   ]
  },
  {
   "cell_type": "code",
   "execution_count": 70,
   "id": "8b923ce4",
   "metadata": {},
   "outputs": [
    {
     "data": {
      "image/png": "[encoded data removed]",
      "text/plain": [
       "<Figure size 432x288 with 1 Axes>"
      ]
     },
     "metadata": {},
     "output_type": "display_data"
    }
   ],
   "source": [
    "sns.barplot(x = insurance_claim.age_category, y = insurance_claim.claim_amount)\n",
    "plt.show()"
   ]
  },
  {
   "cell_type": "code",
   "execution_count": 71,
   "id": "7935da48",
   "metadata": {},
   "outputs": [],
   "source": [
    "## Here to test this we will perform f-test/ANOVA\n",
    "\n",
    "## Ho : There is no significant difference between age groups and insurance claims.\n",
    "## Ha : There is a significant difference between age groups and insurance claims.\n",
    "\n",
    "## CI = 95%\n",
    "## p critical = 0.05"
   ]
  },
  {
   "cell_type": "code",
   "execution_count": 78,
   "id": "2f45b0d3",
   "metadata": {},
   "outputs": [],
   "source": [
    "## Children claim amount is zero, hence we will not use this age_category to test the ANOVA. \n",
    "youth = insurance_claim.loc[insurance_claim.age_category == 'Youth', 'claim_amount']\n",
    "Adult = insurance_claim.loc[insurance_claim.age_category == 'Adult', 'claim_amount']\n",
    "Senior = insurance_claim.loc[insurance_claim.age_category == 'Senior', 'claim_amount']"
   ]
  },
  {
   "cell_type": "code",
   "execution_count": 79,
   "id": "e423c806",
   "metadata": {},
   "outputs": [
    {
     "data": {
      "text/plain": [
       "12126.136123801416"
      ]
     },
     "execution_count": 79,
     "metadata": {},
     "output_type": "execute_result"
    }
   ],
   "source": [
    "youth.mean()"
   ]
  },
  {
   "cell_type": "code",
   "execution_count": 80,
   "id": "2a15dc35",
   "metadata": {},
   "outputs": [
    {
     "data": {
      "text/plain": [
       "12524.92559946498"
      ]
     },
     "execution_count": 80,
     "metadata": {},
     "output_type": "execute_result"
    }
   ],
   "source": [
    "Adult.mean()"
   ]
  },
  {
   "cell_type": "code",
   "execution_count": 81,
   "id": "440a1ba1",
   "metadata": {},
   "outputs": [
    {
     "data": {
      "text/plain": [
       "13028.592808504724"
      ]
     },
     "execution_count": 81,
     "metadata": {},
     "output_type": "execute_result"
    }
   ],
   "source": [
    "Senior.mean()"
   ]
  },
  {
   "cell_type": "code",
   "execution_count": 77,
   "id": "b6b99dd9",
   "metadata": {},
   "outputs": [
    {
     "data": {
      "text/plain": [
       "F_onewayResult(statistic=0.14212286417886513, pvalue=0.8675307220938872)"
      ]
     },
     "execution_count": 77,
     "metadata": {},
     "output_type": "execute_result"
    }
   ],
   "source": [
    "stats.f_oneway(youth, Adult, Senior)"
   ]
  },
  {
   "cell_type": "markdown",
   "id": "96d5a9a4",
   "metadata": {},
   "source": [
    "###  Here the p-value is greater than the significance level (α=0.05) which suggests that there is no significant difference between the mean claim amounts of different age categories. Therefore, we fail to reject the null hypothesis."
   ]
  },
  {
   "cell_type": "markdown",
   "id": "6329bfd0",
   "metadata": {},
   "source": [
    "## 20. Is there any relationship between total number of policy claims and the claimed amount?"
   ]
  },
  {
   "cell_type": "code",
   "execution_count": 116,
   "id": "f8649e8c",
   "metadata": {},
   "outputs": [
    {
     "data": {
      "text/plain": [
       "1.0    798\n",
       "2.0    107\n",
       "3.0     88\n",
       "4.0     61\n",
       "5.0     27\n",
       "6.0     10\n",
       "7.0      2\n",
       "8.0      1\n",
       "Name: total_policy_claims, dtype: int64"
      ]
     },
     "execution_count": 116,
     "metadata": {},
     "output_type": "execute_result"
    }
   ],
   "source": [
    "insurance_claim.total_policy_claims.value_counts()"
   ]
  },
  {
   "cell_type": "code",
   "execution_count": 115,
   "id": "8684b4fd",
   "metadata": {},
   "outputs": [
    {
     "data": {
      "text/plain": [
       "array([1., 2., 3., 4., 6., 5., 8., 7.])"
      ]
     },
     "execution_count": 115,
     "metadata": {},
     "output_type": "execute_result"
    }
   ],
   "source": [
    "insurance_claim.total_policy_claims.unique()"
   ]
  },
  {
   "cell_type": "code",
   "execution_count": 117,
   "id": "3dce9af9",
   "metadata": {},
   "outputs": [
    {
     "data": {
      "image/png": "[encoded data removed]",
      "text/plain": [
       "<Figure size 432x288 with 1 Axes>"
      ]
     },
     "metadata": {},
     "output_type": "display_data"
    }
   ],
   "source": [
    "sns.boxplot(x = insurance_claim.total_policy_claims, y = insurance_claim.claim_amount)\n",
    "plt.show()"
   ]
  },
  {
   "cell_type": "code",
   "execution_count": 122,
   "id": "175c580b",
   "metadata": {},
   "outputs": [
    {
     "data": {
      "image/png": "[encoded data removed]",
      "text/plain": [
       "<Figure size 432x288 with 2 Axes>"
      ]
     },
     "metadata": {},
     "output_type": "display_data"
    }
   ],
   "source": [
    "sns.heatmap(insurance_claim.corr(), annot = True)\n",
    "plt.show()"
   ]
  },
  {
   "cell_type": "code",
   "execution_count": 118,
   "id": "4dc4943b",
   "metadata": {},
   "outputs": [],
   "source": [
    "## To test this we can perform Pearson correlation test or ANOVA.\n",
    "## Ho : There is no relationship between the total number of policy claims and the claimed amount.\n",
    "\n",
    "## Ha : There is a relationship between the total number of policy claims and the claimed amount.\n",
    "\n",
    "## CI = 95%\n",
    "\n",
    "## p-critical = 0.05"
   ]
  },
  {
   "cell_type": "code",
   "execution_count": 119,
   "id": "88da7a14",
   "metadata": {},
   "outputs": [
    {
     "data": {
      "text/plain": [
       "(-0.024401245154551575, 0.4200785709762399)"
      ]
     },
     "execution_count": 119,
     "metadata": {},
     "output_type": "execute_result"
    }
   ],
   "source": [
    "## Pearson correlation test:\n",
    "\n",
    "stats.pearsonr(insurance_claim.total_policy_claims, insurance_claim.claim_amount)"
   ]
  },
  {
   "cell_type": "code",
   "execution_count": 124,
   "id": "d8a28ed7",
   "metadata": {},
   "outputs": [],
   "source": [
    "## perform ANOVA\n",
    "\n",
    "s1 = insurance_claim.loc[insurance_claim.total_policy_claims == 1, 'claim_amount']\n",
    "s2 = insurance_claim.loc[insurance_claim.total_policy_claims == 2, 'claim_amount']\n",
    "s3 = insurance_claim.loc[insurance_claim.total_policy_claims == 3, 'claim_amount']\n",
    "s4 = insurance_claim.loc[insurance_claim.total_policy_claims == 4, 'claim_amount']\n",
    "s5 = insurance_claim.loc[insurance_claim.total_policy_claims == 5, 'claim_amount']\n",
    "s6 = insurance_claim.loc[insurance_claim.total_policy_claims == 6, 'claim_amount']\n",
    "s7 = insurance_claim.loc[insurance_claim.total_policy_claims == 7, 'claim_amount']\n",
    "s8 = insurance_claim.loc[insurance_claim.total_policy_claims == 8, 'claim_amount']"
   ]
  },
  {
   "cell_type": "code",
   "execution_count": 125,
   "id": "2293996c",
   "metadata": {},
   "outputs": [
    {
     "data": {
      "text/plain": [
       "F_onewayResult(statistic=0.8862609999121766, pvalue=0.5165546360834834)"
      ]
     },
     "execution_count": 125,
     "metadata": {},
     "output_type": "execute_result"
    }
   ],
   "source": [
    "stats.f_oneway(s1,s2,s3,s4,s5,s6,s7,s8)"
   ]
  },
  {
   "cell_type": "markdown",
   "id": "63592803",
   "metadata": {},
   "source": [
    "### From Pearson correlation test, it is negative which shows there is a weak negative correlation (-0.024) between the total number of policy claims and the claimed amount. However, the p-value (0.420) is greater than the significance level of 0.05, indicating that there is not enough evidence to reject the null hypothesis. Therefore, we can conclude that there is no significant relationship between the total number of policy claims and the claimed amount.\n",
    "### The same results can be concluded from ANOVA also."
   ]
  },
  {
   "cell_type": "code",
   "execution_count": null,
   "id": "70bbfc2c",
   "metadata": {},
   "outputs": [],
   "source": []
  },
  {
   "cell_type": "code",
   "execution_count": null,
   "id": "080ecf8a",
   "metadata": {},
   "outputs": [],
   "source": []
  }
 ],
 "metadata": {
  "kernelspec": {
   "display_name": "Python 3 (ipykernel)",
   "language": "python",
   "name": "python3"
  },
  "language_info": {
   "codemirror_mode": {
    "name": "ipython",
    "version": 3
   },
   "file_extension": ".py",
   "mimetype": "text/x-python",
   "name": "python",
   "nbconvert_exporter": "python",
   "pygments_lexer": "ipython3",
   "version": "3.9.13"
  }
 },
 "nbformat": 4,
 "nbformat_minor": 5
}
